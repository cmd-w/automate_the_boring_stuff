{
 "cells": [
  {
   "cell_type": "code",
   "execution_count": 2,
   "id": "79e3c3e6",
   "metadata": {},
   "outputs": [
    {
     "name": "stdout",
     "output_type": "stream",
     "text": [
      "Howdy\n",
      "Hello partner\n",
      "Sup, you inconsiderate piece of decomposing organic matter.\n"
     ]
    }
   ],
   "source": [
    "def hello():\n",
    "    print('Howdy')\n",
    "    print('Hello partner')\n",
    "    print('Sup, you inconsiderate piece of decomposing organic matter.')\n",
    "\n",
    "hello()\n"
   ]
  },
  {
   "cell_type": "code",
   "execution_count": 3,
   "id": "8c527b79",
   "metadata": {},
   "outputs": [
    {
     "name": "stdout",
     "output_type": "stream",
     "text": [
      "Howdy, Bob\n"
     ]
    }
   ],
   "source": [
    "def hello(name):\n",
    "    print('Howdy, ' + name)\n",
    "\n",
    "    \n",
    "hello('Bob')"
   ]
  },
  {
   "cell_type": "code",
   "execution_count": 5,
   "id": "7e0cd3ac",
   "metadata": {},
   "outputs": [
    {
     "name": "stdout",
     "output_type": "stream",
     "text": [
      "Hello, Bob. You are 29 years old.\n"
     ]
    }
   ],
   "source": [
    "def greet(name, age):\n",
    "    print('Hello, ' + name + '. You are ' + str(age) + ' years old.')\n",
    "\n",
    "greet('Bob', 29)"
   ]
  },
  {
   "cell_type": "code",
   "execution_count": 9,
   "id": "0ec33b67",
   "metadata": {},
   "outputs": [
    {
     "name": "stdout",
     "output_type": "stream",
     "text": [
      "Yes\n"
     ]
    }
   ],
   "source": [
    "# Magic 8-ball program, page 60\n",
    "\n",
    "import random \n",
    "\n",
    "def getAnswer(answerNumber):\n",
    "    if answerNumber == 1:\n",
    "        return 'It is certain'\n",
    "    elif answerNumber == 2:\n",
    "        return 'It is decidedly so'\n",
    "    elif answerNumber == 3:\n",
    "        return 'Yes'\n",
    "    elif answerNumber == 4: \n",
    "        return 'Reply hazy, lets try again'\n",
    "    elif answerNumber == 5:\n",
    "        return 'Ask again later'\n",
    "    elif answerNumber == 6:\n",
    "        return 'Concentrate and ask again'\n",
    "    elif answerNumber == 7:\n",
    "        return 'My reply is no'\n",
    "    elif answerNumber == 8:\n",
    "        return 'Outlook not so good'\n",
    "    elif answerNumber == 9: \n",
    "        return 'Very doubtful'\n",
    "\n",
    "r = random.randint(1, 9)\n",
    "fortune = getAnswer(r)\n",
    "print(fortune)\n",
    "\n",
    "# Je kan ook die 'r' vervangen door 'answerNumber'. \n",
    "\n",
    "# Deze line is hetzelfde als laatste drie lines hierboven:\n",
    "# print(getAnswer(random.randint(1, 9)))"
   ]
  },
  {
   "cell_type": "code",
   "execution_count": 3,
   "id": "1aa94824",
   "metadata": {},
   "outputs": [
    {
     "name": "stdout",
     "output_type": "stream",
     "text": [
      "Hello\n"
     ]
    },
    {
     "data": {
      "text/plain": [
       "True"
      ]
     },
     "execution_count": 3,
     "metadata": {},
     "output_type": "execute_result"
    }
   ],
   "source": [
    "spam = print('Hello')\n",
    "None == spam"
   ]
  },
  {
   "cell_type": "code",
   "execution_count": 6,
   "id": "2bf822a5",
   "metadata": {},
   "outputs": [
    {
     "name": "stdout",
     "output_type": "stream",
     "text": [
      "HelloWorld\n"
     ]
    }
   ],
   "source": [
    "# hoe moet je de new line bij een print functie omzeilen: \n",
    "    \n",
    "print('Hello', end='')\n",
    "print('World')"
   ]
  },
  {
   "cell_type": "code",
   "execution_count": 7,
   "id": "268d75b5",
   "metadata": {},
   "outputs": [
    {
     "name": "stdout",
     "output_type": "stream",
     "text": [
      "cats dogs bitches\n"
     ]
    }
   ],
   "source": [
    "print('cats', 'dogs', 'bitches')"
   ]
  },
  {
   "cell_type": "code",
   "execution_count": 8,
   "id": "1bda2db8",
   "metadata": {},
   "outputs": [
    {
     "name": "stdout",
     "output_type": "stream",
     "text": [
      "cats,dogs,bitches\n"
     ]
    }
   ],
   "source": [
    "print('cats', 'dogs', 'bitches', sep =',')"
   ]
  },
  {
   "cell_type": "code",
   "execution_count": 9,
   "id": "da58aea5",
   "metadata": {},
   "outputs": [
    {
     "name": "stdout",
     "output_type": "stream",
     "text": [
      "spam\n"
     ]
    }
   ],
   "source": [
    "# Global and Local variables\n",
    "\n",
    "def spam():\n",
    "    global eggs \n",
    "    eggs = 'spam' # This is the global \n",
    "\n",
    "def bacon():\n",
    "    eggs = 'bacon' # this is a local\n",
    "\n",
    "def ham():\n",
    "    print(eggs) #this is the global \n",
    "    \n",
    "eggs = 42 # this is the global \n",
    "spam()\n",
    "print(eggs)\n"
   ]
  },
  {
   "cell_type": "code",
   "execution_count": 10,
   "id": "24816795",
   "metadata": {},
   "outputs": [
    {
     "name": "stdout",
     "output_type": "stream",
     "text": [
      "21.0\n",
      "3.5\n"
     ]
    },
    {
     "ename": "ZeroDivisionError",
     "evalue": "division by zero",
     "output_type": "error",
     "traceback": [
      "\u001b[0;31m---------------------------------------------------------------------------\u001b[0m",
      "\u001b[0;31mZeroDivisionError\u001b[0m                         Traceback (most recent call last)",
      "\u001b[0;32m<ipython-input-10-735fc81f4e05>\u001b[0m in \u001b[0;36m<module>\u001b[0;34m\u001b[0m\n\u001b[1;32m      4\u001b[0m \u001b[0mprint\u001b[0m\u001b[0;34m(\u001b[0m\u001b[0mspam\u001b[0m\u001b[0;34m(\u001b[0m\u001b[0;36m2\u001b[0m\u001b[0;34m)\u001b[0m\u001b[0;34m)\u001b[0m\u001b[0;34m\u001b[0m\u001b[0;34m\u001b[0m\u001b[0m\n\u001b[1;32m      5\u001b[0m \u001b[0mprint\u001b[0m\u001b[0;34m(\u001b[0m\u001b[0mspam\u001b[0m\u001b[0;34m(\u001b[0m\u001b[0;36m12\u001b[0m\u001b[0;34m)\u001b[0m\u001b[0;34m)\u001b[0m\u001b[0;34m\u001b[0m\u001b[0;34m\u001b[0m\u001b[0m\n\u001b[0;32m----> 6\u001b[0;31m \u001b[0mprint\u001b[0m\u001b[0;34m(\u001b[0m\u001b[0mspam\u001b[0m\u001b[0;34m(\u001b[0m\u001b[0;36m0\u001b[0m\u001b[0;34m)\u001b[0m\u001b[0;34m)\u001b[0m\u001b[0;34m\u001b[0m\u001b[0;34m\u001b[0m\u001b[0m\n\u001b[0m",
      "\u001b[0;32m<ipython-input-10-735fc81f4e05>\u001b[0m in \u001b[0;36mspam\u001b[0;34m(divideBy)\u001b[0m\n\u001b[1;32m      1\u001b[0m \u001b[0;32mdef\u001b[0m \u001b[0mspam\u001b[0m\u001b[0;34m(\u001b[0m\u001b[0mdivideBy\u001b[0m\u001b[0;34m)\u001b[0m\u001b[0;34m:\u001b[0m\u001b[0;34m\u001b[0m\u001b[0;34m\u001b[0m\u001b[0m\n\u001b[0;32m----> 2\u001b[0;31m     \u001b[0;32mreturn\u001b[0m \u001b[0;36m42\u001b[0m \u001b[0;34m/\u001b[0m \u001b[0mdivideBy\u001b[0m\u001b[0;34m\u001b[0m\u001b[0;34m\u001b[0m\u001b[0m\n\u001b[0m\u001b[1;32m      3\u001b[0m \u001b[0;34m\u001b[0m\u001b[0m\n\u001b[1;32m      4\u001b[0m \u001b[0mprint\u001b[0m\u001b[0;34m(\u001b[0m\u001b[0mspam\u001b[0m\u001b[0;34m(\u001b[0m\u001b[0;36m2\u001b[0m\u001b[0;34m)\u001b[0m\u001b[0;34m)\u001b[0m\u001b[0;34m\u001b[0m\u001b[0;34m\u001b[0m\u001b[0m\n\u001b[1;32m      5\u001b[0m \u001b[0mprint\u001b[0m\u001b[0;34m(\u001b[0m\u001b[0mspam\u001b[0m\u001b[0;34m(\u001b[0m\u001b[0;36m12\u001b[0m\u001b[0;34m)\u001b[0m\u001b[0;34m)\u001b[0m\u001b[0;34m\u001b[0m\u001b[0;34m\u001b[0m\u001b[0m\n",
      "\u001b[0;31mZeroDivisionError\u001b[0m: division by zero"
     ]
    }
   ],
   "source": [
    "def spam(divideBy):\n",
    "    return 42 / divideBy\n",
    "\n",
    "print(spam(2))\n",
    "print(spam(12))\n",
    "print(spam(0))"
   ]
  },
  {
   "cell_type": "code",
   "execution_count": 13,
   "id": "a3eb1ed0",
   "metadata": {},
   "outputs": [
    {
     "name": "stdout",
     "output_type": "stream",
     "text": [
      "21.0\n",
      "3.5\n",
      "Invalid argument\n",
      "None\n"
     ]
    }
   ],
   "source": [
    "def spam(divideBy):\n",
    "    try: \n",
    "        return 42 / divideBy\n",
    "    except ZeroDivisionError:\n",
    "            print('Invalid argument')\n",
    "\n",
    "print(spam(2))\n",
    "print(spam(12))\n",
    "print(spam(0))"
   ]
  },
  {
   "cell_type": "code",
   "execution_count": null,
   "id": "19415880",
   "metadata": {},
   "outputs": [],
   "source": [
    "#zigzag program, also to be found as zigzag.py, and in page 73 \n",
    "\n",
    "import time, sys\n",
    "indent = 0          #How many spaces to indent \n",
    "indentIncreasing = True   # Whether the indentation is increasing or not\n",
    "\n",
    "try:\n",
    "    while True: #the main program loop \n",
    "        print(' ' * indent, end='')\n",
    "        print('******')\n",
    "        time.sleep(0.1) #pause for 1/10 of a second\n",
    "        \n",
    "        if indentIncreasing:\n",
    "            #increase the number of spaces\n",
    "            indent = indent + 1 \n",
    "            if indent == 20: \n",
    "                #change direction \n",
    "                indentIncreasing = False\n",
    "        else:\n",
    "            #Decrease the number of spaces \n",
    "            indent = indent - 1 \n",
    "            if indent == 0: \n",
    "                # change direction \n",
    "                indentIncreasing = True\n",
    "\n",
    "except KeyboardInterrupt:\n",
    "    sys.exit()\n",
    "    "
   ]
  }
 ],
 "metadata": {
  "kernelspec": {
   "display_name": "Python 3",
   "language": "python",
   "name": "python3"
  },
  "language_info": {
   "codemirror_mode": {
    "name": "ipython",
    "version": 3
   },
   "file_extension": ".py",
   "mimetype": "text/x-python",
   "name": "python",
   "nbconvert_exporter": "python",
   "pygments_lexer": "ipython3",
   "version": "3.9.2"
  }
 },
 "nbformat": 4,
 "nbformat_minor": 5
}
