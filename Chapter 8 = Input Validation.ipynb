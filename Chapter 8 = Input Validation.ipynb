{
 "cells": [
  {
   "cell_type": "code",
   "execution_count": 1,
   "id": "1de67917",
   "metadata": {
    "collapsed": true
   },
   "outputs": [
    {
     "name": "stdout",
     "output_type": "stream",
     "text": [
      "Enter your age :: \n",
      "0 \n",
      "Enter a positive number\n",
      "Enter your age :: \n",
      "cool \n",
      "Please use numeric values\n",
      "Enter your age :: \n",
      "20 \n",
      "Your age is 20\n"
     ]
    }
   ],
   "source": [
    "while True:\n",
    "    print('Enter your age :: ')\n",
    "    age = input()\n",
    "    try:\n",
    "        age = int(age)\n",
    "    except:\n",
    "        print('Please use numeric values')\n",
    "        continue\n",
    "    if age < 1:\n",
    "        print('Enter a positive number')\n",
    "        continue\n",
    "    break \n",
    "    \n",
    "    \n",
    "print(f'Your age is {age}')\n",
    "\n",
    "#ensures that by the time the code leaves the while loop, the age variable will be valid\n",
    "# -> ensures that it wont crash the program later"
   ]
  },
  {
   "cell_type": "markdown",
   "id": "0b36db7f",
   "metadata": {},
   "source": [
    "\"\"\"\n",
    "ADDING THIS TO EVERY INPUT IS SILLY\n",
    "\n",
    "We are going to use the module 'PyInputPlus'\n",
    "\n",
    "pip install pyinputplus\n",
    "\n",
    "\"\"\""
   ]
  },
  {
   "cell_type": "code",
   "execution_count": 5,
   "id": "efa9f937",
   "metadata": {},
   "outputs": [],
   "source": [
    "import pyinputplus as pyip"
   ]
  },
  {
   "cell_type": "markdown",
   "id": "d34c4933",
   "metadata": {},
   "source": [
    "\"\"\"\n",
    "inputStr() Is like the built-in input() function but has the general PyInputPlus features. You can also pass a custom validation function to it\n",
    "\n",
    "inputNum() Ensures the user enters a number and returns an int or float, depending on if the number has a decimal point in it\n",
    "\n",
    "inputChoice() Ensures the user enters one of the provided choices\n",
    "\n",
    "inputMenu() Is similar to inputChoice(), but provides a menu with numbered or lettered options\n",
    "\n",
    "inputDatetime() Ensures the user enters a date and time\n",
    "\n",
    "inputYesNo() Ensures the user enters a “yes” or “no” response\n",
    "\n",
    "inputBool() Is similar to inputYesNo(), but takes a “True” or “False” response and returns a Boolean value\n",
    "\n",
    "inputEmail() Ensures the user enters a valid email address\n",
    "\n",
    "inputFilepath() Ensures the user enters a valid file path and filename, and can optionally check that a file with that name exists\n",
    "\n",
    "inputPassword() Is like the built-in input(), but displays * characters as the user types so that passwords, or other sensitive information, aren’t displayed on the screen\n",
    "\"\"\"\n",
    "\n",
    "https://pyinputplus.readthedocs.io/"
   ]
  },
  {
   "cell_type": "code",
   "execution_count": 7,
   "id": "be96b013",
   "metadata": {},
   "outputs": [
    {
     "name": "stdout",
     "output_type": "stream",
     "text": [
      "five\n",
      "'five' is not a number.\n",
      "5 \n"
     ]
    }
   ],
   "source": [
    "import pyinputplus as pyip # saves us from typing pyinputplus each time \n",
    "respons = pyip.inputNum()\n"
   ]
  },
  {
   "cell_type": "code",
   "execution_count": 10,
   "id": "764f4ffc",
   "metadata": {},
   "outputs": [
    {
     "name": "stdout",
     "output_type": "stream",
     "text": [
      "Enter a number :: five \n",
      "'five' is not an integer.\n",
      "Enter a number :: 5\n"
     ]
    }
   ],
   "source": [
    "respons = pyip.inputInt(prompt='Enter a number :: ')\n"
   ]
  },
  {
   "cell_type": "code",
   "execution_count": 11,
   "id": "5313bfea",
   "metadata": {},
   "outputs": [
    {
     "name": "stdout",
     "output_type": "stream",
     "text": [
      "Enter a num :: 3\n",
      "Number must be at minimum 4.\n",
      "Enter a num :: 4\n"
     ]
    }
   ],
   "source": [
    "# The min, max, greaterThan, and lessThan keyword arguments\n",
    "respons = pyip.inputNum(prompt='Enter a num :: ', min=4)"
   ]
  },
  {
   "cell_type": "code",
   "execution_count": 12,
   "id": "9fba0291",
   "metadata": {},
   "outputs": [
    {
     "name": "stdout",
     "output_type": "stream",
     "text": [
      "Enter a num :: 3\n",
      "Number must be greater than 4.\n",
      "Enter a num :: 4\n",
      "Number must be greater than 4.\n",
      "Enter a num :: 5\n"
     ]
    }
   ],
   "source": [
    "respons = pyip.inputNum(prompt='Enter a num :: ', greaterThan=4)"
   ]
  },
  {
   "cell_type": "code",
   "execution_count": 13,
   "id": "f054ecd9",
   "metadata": {},
   "outputs": [
    {
     "name": "stdout",
     "output_type": "stream",
     "text": [
      "Enter a num :: 3\n"
     ]
    }
   ],
   "source": [
    "respons = pyip.inputNum(prompt='Enter a num :: ', max=4)"
   ]
  },
  {
   "cell_type": "code",
   "execution_count": 14,
   "id": "9f325f82",
   "metadata": {},
   "outputs": [
    {
     "name": "stdout",
     "output_type": "stream",
     "text": [
      "Enter a num :: 4\n",
      "Number must be less than 4.\n",
      "Enter a num :: 3\n"
     ]
    }
   ],
   "source": [
    "respons = pyip.inputNum(prompt='Enter a num :: ', lessThan=4)"
   ]
  },
  {
   "cell_type": "code",
   "execution_count": 15,
   "id": "ad7a5f74",
   "metadata": {},
   "outputs": [
    {
     "name": "stdout",
     "output_type": "stream",
     "text": [
      "> 2\n",
      "Number must be at minimum 4.\n",
      "> 4\n"
     ]
    }
   ],
   "source": [
    "respons = pyip.inputNum(prompt='> ', min=4, lessThan=6)"
   ]
  },
  {
   "cell_type": "code",
   "execution_count": null,
   "id": "12239206",
   "metadata": {},
   "outputs": [
    {
     "name": "stdout",
     "output_type": "stream",
     "text": [
      "Enter a num :: \n",
      "Blank values are not allowed.\n",
      "Enter a num :: "
     ]
    }
   ],
   "source": [
    "# Blank keyword argument\n",
    "respons = pyip.inputNum(prompt='Enter a num :: ') # Blank values are by default not allowed"
   ]
  },
  {
   "cell_type": "code",
   "execution_count": null,
   "id": "e093986e",
   "metadata": {},
   "outputs": [],
   "source": [
    "#The limit, timeout and default keyword arguments\n",
    "respons = pyip.inputNum(prompt='enter a number > 'limit=2)\n"
   ]
  },
  {
   "cell_type": "code",
   "execution_count": null,
   "id": "a46b184a",
   "metadata": {},
   "outputs": [],
   "source": []
  }
 ],
 "metadata": {
  "kernelspec": {
   "display_name": "Python 3",
   "language": "python",
   "name": "python3"
  },
  "language_info": {
   "codemirror_mode": {
    "name": "ipython",
    "version": 3
   },
   "file_extension": ".py",
   "mimetype": "text/x-python",
   "name": "python",
   "nbconvert_exporter": "python",
   "pygments_lexer": "ipython3",
   "version": "3.9.5"
  }
 },
 "nbformat": 4,
 "nbformat_minor": 5
}
