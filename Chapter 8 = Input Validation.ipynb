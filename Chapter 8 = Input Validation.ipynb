{
 "cells": [
  {
   "cell_type": "code",
   "execution_count": 1,
   "id": "1de67917",
   "metadata": {
    "collapsed": true
   },
   "outputs": [
    {
     "name": "stdout",
     "output_type": "stream",
     "text": [
      "Enter your age :: \n",
      "0 \n",
      "Enter a positive number\n",
      "Enter your age :: \n",
      "cool \n",
      "Please use numeric values\n",
      "Enter your age :: \n",
      "20 \n",
      "Your age is 20\n"
     ]
    }
   ],
   "source": [
    "while True:\n",
    "    print('Enter your age :: ')\n",
    "    age = input()\n",
    "    try:\n",
    "        age = int(age)\n",
    "    except:\n",
    "        print('Please use numeric values')\n",
    "        continue\n",
    "    if age < 1:\n",
    "        print('Enter a positive number')\n",
    "        continue\n",
    "    break \n",
    "    \n",
    "    \n",
    "print(f'Your age is {age}')\n",
    "\n",
    "#ensures that by the time the code leaves the while loop, the age variable will be valid\n",
    "# -> ensures that it wont crash the program later"
   ]
  },
  {
   "cell_type": "markdown",
   "id": "0b36db7f",
   "metadata": {},
   "source": [
    "\"\"\"\n",
    "ADDING THIS TO EVERY INPUT IS SILLY\n",
    "\n",
    "We are going to use the module 'PyInputPlus'\n",
    "\n",
    "pip install pyinputplus\n",
    "\n",
    "\"\"\""
   ]
  },
  {
   "cell_type": "code",
   "execution_count": 5,
   "id": "efa9f937",
   "metadata": {},
   "outputs": [],
   "source": [
    "import pyinputplus as pyip"
   ]
  },
  {
   "cell_type": "markdown",
   "id": "d34c4933",
   "metadata": {},
   "source": [
    "\"\"\"\n",
    "inputStr() Is like the built-in input() function but has the general PyInputPlus features. You can also pass a custom validation function to it\n",
    "\n",
    "inputNum() Ensures the user enters a number and returns an int or float, depending on if the number has a decimal point in it\n",
    "\n",
    "inputChoice() Ensures the user enters one of the provided choices\n",
    "\n",
    "inputMenu() Is similar to inputChoice(), but provides a menu with numbered or lettered options\n",
    "\n",
    "inputDatetime() Ensures the user enters a date and time\n",
    "\n",
    "inputYesNo() Ensures the user enters a “yes” or “no” response\n",
    "\n",
    "inputBool() Is similar to inputYesNo(), but takes a “True” or “False” response and returns a Boolean value\n",
    "\n",
    "inputEmail() Ensures the user enters a valid email address\n",
    "\n",
    "inputFilepath() Ensures the user enters a valid file path and filename, and can optionally check that a file with that name exists\n",
    "\n",
    "inputPassword() Is like the built-in input(), but displays * characters as the user types so that passwords, or other sensitive information, aren’t displayed on the screen\n",
    "\"\"\"\n",
    "\n",
    "https://pyinputplus.readthedocs.io/"
   ]
  },
  {
   "cell_type": "code",
   "execution_count": 7,
   "id": "be96b013",
   "metadata": {},
   "outputs": [
    {
     "name": "stdout",
     "output_type": "stream",
     "text": [
      "five\n",
      "'five' is not a number.\n",
      "5 \n"
     ]
    }
   ],
   "source": [
    "import pyinputplus as pyip # saves us from typing pyinputplus each time \n",
    "respons = pyip.inputNum()\n"
   ]
  },
  {
   "cell_type": "code",
   "execution_count": 10,
   "id": "764f4ffc",
   "metadata": {},
   "outputs": [
    {
     "name": "stdout",
     "output_type": "stream",
     "text": [
      "Enter a number :: five \n",
      "'five' is not an integer.\n",
      "Enter a number :: 5\n"
     ]
    }
   ],
   "source": [
    "respons = pyip.inputInt(prompt='Enter a number :: ')\n"
   ]
  },
  {
   "cell_type": "code",
   "execution_count": 11,
   "id": "5313bfea",
   "metadata": {},
   "outputs": [
    {
     "name": "stdout",
     "output_type": "stream",
     "text": [
      "Enter a num :: 3\n",
      "Number must be at minimum 4.\n",
      "Enter a num :: 4\n"
     ]
    }
   ],
   "source": [
    "# The min, max, greaterThan, and lessThan keyword arguments\n",
    "respons = pyip.inputNum(prompt='Enter a num :: ', min=4)"
   ]
  },
  {
   "cell_type": "code",
   "execution_count": 12,
   "id": "9fba0291",
   "metadata": {},
   "outputs": [
    {
     "name": "stdout",
     "output_type": "stream",
     "text": [
      "Enter a num :: 3\n",
      "Number must be greater than 4.\n",
      "Enter a num :: 4\n",
      "Number must be greater than 4.\n",
      "Enter a num :: 5\n"
     ]
    }
   ],
   "source": [
    "respons = pyip.inputNum(prompt='Enter a num :: ', greaterThan=4)"
   ]
  },
  {
   "cell_type": "code",
   "execution_count": 13,
   "id": "f054ecd9",
   "metadata": {},
   "outputs": [
    {
     "name": "stdout",
     "output_type": "stream",
     "text": [
      "Enter a num :: 3\n"
     ]
    }
   ],
   "source": [
    "respons = pyip.inputNum(prompt='Enter a num :: ', max=4)"
   ]
  },
  {
   "cell_type": "code",
   "execution_count": 14,
   "id": "9f325f82",
   "metadata": {},
   "outputs": [
    {
     "name": "stdout",
     "output_type": "stream",
     "text": [
      "Enter a num :: 4\n",
      "Number must be less than 4.\n",
      "Enter a num :: 3\n"
     ]
    }
   ],
   "source": [
    "respons = pyip.inputNum(prompt='Enter a num :: ', lessThan=4)"
   ]
  },
  {
   "cell_type": "code",
   "execution_count": 15,
   "id": "ad7a5f74",
   "metadata": {},
   "outputs": [
    {
     "name": "stdout",
     "output_type": "stream",
     "text": [
      "> 2\n",
      "Number must be at minimum 4.\n",
      "> 4\n"
     ]
    }
   ],
   "source": [
    "respons = pyip.inputNum(prompt='> ', min=4, lessThan=6)"
   ]
  },
  {
   "cell_type": "code",
   "execution_count": null,
   "id": "12239206",
   "metadata": {},
   "outputs": [
    {
     "name": "stdout",
     "output_type": "stream",
     "text": [
      "Enter a num :: \n",
      "Blank values are not allowed.\n",
      "Enter a num :: "
     ]
    }
   ],
   "source": [
    "# Blank keyword argument\n",
    "respons = pyip.inputNum(prompt='Enter a num :: ') # Blank values are by default not allowed"
   ]
  },
  {
   "cell_type": "code",
   "execution_count": 5,
   "id": "e093986e",
   "metadata": {
    "scrolled": true
   },
   "outputs": [
    {
     "name": "stdout",
     "output_type": "stream",
     "text": [
      "five\n",
      "'five' is not a number.\n",
      "no \n",
      "'no' is not a number.\n"
     ]
    },
    {
     "ename": "RetryLimitException",
     "evalue": "",
     "output_type": "error",
     "traceback": [
      "\u001b[0;31m-----------------------------------------------------------------------\u001b[0m",
      "\u001b[0;31mValueError\u001b[0m                            Traceback (most recent call last)",
      "\u001b[0;32m/usr/local/lib/python3.9/site-packages/pysimplevalidate/__init__.py\u001b[0m in \u001b[0;36mvalidateNum\u001b[0;34m(value, blank, strip, allowRegexes, blockRegexes, _numType, min, max, lessThan, greaterThan, excMsg)\u001b[0m\n\u001b[1;32m    511\u001b[0m         \u001b[0;32mtry\u001b[0m\u001b[0;34m:\u001b[0m\u001b[0;34m\u001b[0m\u001b[0;34m\u001b[0m\u001b[0m\n\u001b[0;32m--> 512\u001b[0;31m             \u001b[0mnumericValue\u001b[0m \u001b[0;34m=\u001b[0m \u001b[0mint\u001b[0m\u001b[0;34m(\u001b[0m\u001b[0mvalue\u001b[0m\u001b[0;34m)\u001b[0m\u001b[0;34m\u001b[0m\u001b[0;34m\u001b[0m\u001b[0m\n\u001b[0m\u001b[1;32m    513\u001b[0m         \u001b[0;32mexcept\u001b[0m\u001b[0;34m:\u001b[0m\u001b[0;34m\u001b[0m\u001b[0;34m\u001b[0m\u001b[0m\n",
      "\u001b[0;31mValueError\u001b[0m: invalid literal for int() with base 10: 'no'",
      "\nDuring handling of the above exception, another exception occurred:\n",
      "\u001b[0;31mValidationException\u001b[0m                   Traceback (most recent call last)",
      "\u001b[0;32m/usr/local/lib/python3.9/site-packages/pyinputplus/__init__.py\u001b[0m in \u001b[0;36m_genericInput\u001b[0;34m(prompt, default, timeout, limit, applyFunc, validationFunc, postValidateApplyFunc, passwordMask)\u001b[0m\n\u001b[1;32m    166\u001b[0m         \u001b[0;32mtry\u001b[0m\u001b[0;34m:\u001b[0m\u001b[0;34m\u001b[0m\u001b[0;34m\u001b[0m\u001b[0m\n\u001b[0;32m--> 167\u001b[0;31m             possibleNewUserInput = validationFunc(\n\u001b[0m\u001b[1;32m    168\u001b[0m                 \u001b[0muserInput\u001b[0m\u001b[0;34m\u001b[0m\u001b[0;34m\u001b[0m\u001b[0m\n",
      "\u001b[0;32m/usr/local/lib/python3.9/site-packages/pyinputplus/__init__.py\u001b[0m in \u001b[0;36m<lambda>\u001b[0;34m(value)\u001b[0m\n\u001b[1;32m    384\u001b[0m \u001b[0;34m\u001b[0m\u001b[0m\n\u001b[0;32m--> 385\u001b[0;31m     validationFunc = lambda value: pysv.validateNum(\n\u001b[0m\u001b[1;32m    386\u001b[0m         \u001b[0mvalue\u001b[0m\u001b[0;34m,\u001b[0m\u001b[0;34m\u001b[0m\u001b[0;34m\u001b[0m\u001b[0m\n",
      "\u001b[0;32m/usr/local/lib/python3.9/site-packages/pysimplevalidate/__init__.py\u001b[0m in \u001b[0;36mvalidateNum\u001b[0;34m(value, blank, strip, allowRegexes, blockRegexes, _numType, min, max, lessThan, greaterThan, excMsg)\u001b[0m\n\u001b[1;32m    513\u001b[0m         \u001b[0;32mexcept\u001b[0m\u001b[0;34m:\u001b[0m\u001b[0;34m\u001b[0m\u001b[0;34m\u001b[0m\u001b[0m\n\u001b[0;32m--> 514\u001b[0;31m             \u001b[0m_raiseValidationException\u001b[0m\u001b[0;34m(\u001b[0m\u001b[0m_\u001b[0m\u001b[0;34m(\u001b[0m\u001b[0;34m\"%r is not a number.\"\u001b[0m\u001b[0;34m)\u001b[0m \u001b[0;34m%\u001b[0m \u001b[0;34m(\u001b[0m\u001b[0m_errstr\u001b[0m\u001b[0;34m(\u001b[0m\u001b[0mvalue\u001b[0m\u001b[0;34m)\u001b[0m\u001b[0;34m)\u001b[0m\u001b[0;34m,\u001b[0m \u001b[0mexcMsg\u001b[0m\u001b[0;34m)\u001b[0m\u001b[0;34m\u001b[0m\u001b[0;34m\u001b[0m\u001b[0m\n\u001b[0m\u001b[1;32m    515\u001b[0m     \u001b[0;32melif\u001b[0m \u001b[0m_numType\u001b[0m \u001b[0;34m==\u001b[0m \u001b[0;34m\"float\"\u001b[0m\u001b[0;34m:\u001b[0m\u001b[0;34m\u001b[0m\u001b[0;34m\u001b[0m\u001b[0m\n",
      "\u001b[0;32m/usr/local/lib/python3.9/site-packages/pysimplevalidate/__init__.py\u001b[0m in \u001b[0;36m_raiseValidationException\u001b[0;34m(standardExcMsg, customExcMsg)\u001b[0m\n\u001b[1;32m    221\u001b[0m     \u001b[0;32mif\u001b[0m \u001b[0mcustomExcMsg\u001b[0m \u001b[0;32mis\u001b[0m \u001b[0;32mNone\u001b[0m\u001b[0;34m:\u001b[0m\u001b[0;34m\u001b[0m\u001b[0;34m\u001b[0m\u001b[0m\n\u001b[0;32m--> 222\u001b[0;31m         \u001b[0;32mraise\u001b[0m \u001b[0mValidationException\u001b[0m\u001b[0;34m(\u001b[0m\u001b[0mstr\u001b[0m\u001b[0;34m(\u001b[0m\u001b[0mstandardExcMsg\u001b[0m\u001b[0;34m)\u001b[0m\u001b[0;34m)\u001b[0m\u001b[0;34m\u001b[0m\u001b[0;34m\u001b[0m\u001b[0m\n\u001b[0m\u001b[1;32m    223\u001b[0m     \u001b[0;32melse\u001b[0m\u001b[0;34m:\u001b[0m\u001b[0;34m\u001b[0m\u001b[0;34m\u001b[0m\u001b[0m\n",
      "\u001b[0;31mValidationException\u001b[0m: 'no' is not a number.",
      "\nDuring handling of the above exception, another exception occurred:\n",
      "\u001b[0;31mRetryLimitException\u001b[0m                   Traceback (most recent call last)",
      "\u001b[0;32m<ipython-input-5-e1e2457edcea>\u001b[0m in \u001b[0;36m<module>\u001b[0;34m\u001b[0m\n\u001b[1;32m      2\u001b[0m \u001b[0;34m\u001b[0m\u001b[0m\n\u001b[1;32m      3\u001b[0m \u001b[0;32mimport\u001b[0m \u001b[0mpyinputplus\u001b[0m \u001b[0;32mas\u001b[0m \u001b[0mpyip\u001b[0m\u001b[0;34m\u001b[0m\u001b[0;34m\u001b[0m\u001b[0m\n\u001b[0;32m----> 4\u001b[0;31m \u001b[0mresponse\u001b[0m \u001b[0;34m=\u001b[0m \u001b[0mpyip\u001b[0m\u001b[0;34m.\u001b[0m\u001b[0minputNum\u001b[0m\u001b[0;34m(\u001b[0m\u001b[0mlimit\u001b[0m\u001b[0;34m=\u001b[0m\u001b[0;36m2\u001b[0m\u001b[0;34m)\u001b[0m\u001b[0;34m\u001b[0m\u001b[0;34m\u001b[0m\u001b[0m\n\u001b[0m",
      "\u001b[0;32m/usr/local/lib/python3.9/site-packages/pyinputplus/__init__.py\u001b[0m in \u001b[0;36minputNum\u001b[0;34m(prompt, default, blank, timeout, limit, strip, allowRegexes, blockRegexes, applyFunc, postValidateApplyFunc, min, max, greaterThan, lessThan)\u001b[0m\n\u001b[1;32m    396\u001b[0m     )\n\u001b[1;32m    397\u001b[0m \u001b[0;34m\u001b[0m\u001b[0m\n\u001b[0;32m--> 398\u001b[0;31m     return _genericInput(\n\u001b[0m\u001b[1;32m    399\u001b[0m         \u001b[0mprompt\u001b[0m\u001b[0;34m=\u001b[0m\u001b[0mprompt\u001b[0m\u001b[0;34m,\u001b[0m\u001b[0;34m\u001b[0m\u001b[0;34m\u001b[0m\u001b[0m\n\u001b[1;32m    400\u001b[0m         \u001b[0mdefault\u001b[0m\u001b[0;34m=\u001b[0m\u001b[0mdefault\u001b[0m\u001b[0;34m,\u001b[0m\u001b[0;34m\u001b[0m\u001b[0;34m\u001b[0m\u001b[0m\n",
      "\u001b[0;32m/usr/local/lib/python3.9/site-packages/pyinputplus/__init__.py\u001b[0m in \u001b[0;36m_genericInput\u001b[0;34m(prompt, default, timeout, limit, applyFunc, validationFunc, postValidateApplyFunc, passwordMask)\u001b[0m\n\u001b[1;32m    186\u001b[0m                 \u001b[0;32melse\u001b[0m\u001b[0;34m:\u001b[0m\u001b[0;34m\u001b[0m\u001b[0;34m\u001b[0m\u001b[0m\n\u001b[1;32m    187\u001b[0m                     \u001b[0;31m# If there is no default, then raise the timeout/limit exception.\u001b[0m\u001b[0;34m\u001b[0m\u001b[0;34m\u001b[0m\u001b[0;34m\u001b[0m\u001b[0m\n\u001b[0;32m--> 188\u001b[0;31m                     \u001b[0;32mraise\u001b[0m \u001b[0mlimitOrTimeoutException\u001b[0m\u001b[0;34m\u001b[0m\u001b[0;34m\u001b[0m\u001b[0m\n\u001b[0m\u001b[1;32m    189\u001b[0m             \u001b[0;32melse\u001b[0m\u001b[0;34m:\u001b[0m\u001b[0;34m\u001b[0m\u001b[0;34m\u001b[0m\u001b[0m\n\u001b[1;32m    190\u001b[0m                 \u001b[0;31m# If there was no timeout/limit exceeded, let the user enter input again.\u001b[0m\u001b[0;34m\u001b[0m\u001b[0;34m\u001b[0m\u001b[0;34m\u001b[0m\u001b[0m\n",
      "\u001b[0;31mRetryLimitException\u001b[0m: "
     ]
    }
   ],
   "source": [
    "#The limit, timeout and default keyword arguments\n",
    "\n",
    "import pyinputplus as pyip\n",
    "response = pyip.inputNum(limit=2)\n"
   ]
  },
  {
   "cell_type": "code",
   "execution_count": null,
   "id": "a46b184a",
   "metadata": {},
   "outputs": [],
   "source": []
  }
 ],
 "metadata": {
  "kernelspec": {
   "display_name": "Python 3",
   "language": "python",
   "name": "python3"
  },
  "language_info": {
   "codemirror_mode": {
    "name": "ipython",
    "version": 3
   },
   "file_extension": ".py",
   "mimetype": "text/x-python",
   "name": "python",
   "nbconvert_exporter": "python",
   "pygments_lexer": "ipython3",
   "version": "3.9.5"
  }
 },
 "nbformat": 4,
 "nbformat_minor": 5
}
