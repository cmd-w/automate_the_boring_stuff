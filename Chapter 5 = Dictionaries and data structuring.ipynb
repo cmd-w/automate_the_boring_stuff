{
 "cells": [
  {
   "cell_type": "code",
   "execution_count": 1,
   "id": "a247ceec",
   "metadata": {},
   "outputs": [
    {
     "data": {
      "text/plain": [
       "'fat'"
      ]
     },
     "execution_count": 1,
     "metadata": {},
     "output_type": "execute_result"
    }
   ],
   "source": [
    "myCat = {'size': 'fat', 'color': 'gray', 'disposition': 'asshole'}\n",
    "\n",
    "#Dictionary keys = size, color, disposition\n",
    "#the values for these keys are fat, gray and asshole\n",
    "myCat['size'] #NOTICE THE SQUARE BRACKETS \n"
   ]
  },
  {
   "cell_type": "code",
   "execution_count": 3,
   "id": "8063a956",
   "metadata": {},
   "outputs": [
    {
     "data": {
      "text/plain": [
       "'My cat has gray fur.'"
      ]
     },
     "execution_count": 3,
     "metadata": {},
     "output_type": "execute_result"
    }
   ],
   "source": [
    "'My cat has ' + myCat['color'] + ' fur.'"
   ]
  },
  {
   "cell_type": "code",
   "execution_count": 10,
   "id": "bffa1371",
   "metadata": {},
   "outputs": [
    {
     "data": {
      "text/plain": [
       "12345"
      ]
     },
     "execution_count": 10,
     "metadata": {},
     "output_type": "execute_result"
    }
   ],
   "source": [
    "spam = {'luggage combination': 12345}\n",
    "spam['luggage combination']"
   ]
  },
  {
   "cell_type": "code",
   "execution_count": 12,
   "id": "ad6d6bc2",
   "metadata": {},
   "outputs": [
    {
     "data": {
      "text/plain": [
       "False"
      ]
     },
     "execution_count": 12,
     "metadata": {},
     "output_type": "execute_result"
    }
   ],
   "source": [
    "#Diffrence with lists, dic are unordered, 'NO FIRST ITEMS IN DIC, SEE BELOW'\n",
    "spam = ['cats', 'dogs', 'moose']\n",
    "bacon = ['dogs', 'moose', 'cats']\n",
    "spam == bacon #This is a list, same values, diffrent indexes = not same"
   ]
  },
  {
   "cell_type": "code",
   "execution_count": 13,
   "id": "78c22e3a",
   "metadata": {},
   "outputs": [
    {
     "data": {
      "text/plain": [
       "True"
      ]
     },
     "execution_count": 13,
     "metadata": {},
     "output_type": "execute_result"
    }
   ],
   "source": [
    "eggs = {'name': 'Sophie', 'age': 23, 'job': 'being a cunt @ work'}\n",
    "ham = {'job': 'being a cunt @ work','name': 'Sophie', 'age': 23}\n",
    "eggs == ham #this is a dic, same values, diffrent indexes = same"
   ]
  },
  {
   "cell_type": "code",
   "execution_count": null,
   "id": "37545e92",
   "metadata": {},
   "outputs": [],
   "source": [
    "#KEEPING TRACK OF BIRTHDAYS WITH DICTIONARIES\n",
    "birthdays = {'aline': 'June 16', 'Tanja': 'Feb 23', 'Seppe': 'Juli 22', 'Radu': 'Aug 5'}\n",
    "\n",
    "while True: \n",
    "    print('enter a name: (blank to quit.)')\n",
    "    name = input()\n",
    "    if name == '':\n",
    "        break \n",
    "    \n",
    "    if name in birthdays:\n",
    "        print(birthdays[name] + ' is the birthday of ' + name)\n",
    "    else:\n",
    "        print('I do not have birthday information for ' + name)\n",
    "        print('What is their birthday?')\n",
    "        bday = input()\n",
    "        birthdays[name] = bday\n",
    "        print('database updated.')\n",
    "\n",
    "#TERMINATE PROGRAM = RESET MEMORY, NEW ENTERIES NOT STORED, FOR THIS SEE CHAPTER 9! \n",
    "# combine those and make a birthday program for real, cuz you forget them all the time"
   ]
  },
  {
   "cell_type": "code",
   "execution_count": null,
   "id": "98bd8338",
   "metadata": {},
   "outputs": [],
   "source": []
  },
  {
   "cell_type": "code",
   "execution_count": 4,
   "id": "1d927e62",
   "metadata": {},
   "outputs": [
    {
     "name": "stdout",
     "output_type": "stream",
     "text": [
      "red\n",
      "42\n"
     ]
    }
   ],
   "source": [
    "#the keys(), values(), and items() methods\n",
    "# je kan deze afkorten als 'for v in spam.values() of for k in spam.keys()'\n",
    "\n",
    "spam = {'color': 'red', 'age': 42}\n",
    "for value in spam.values():\n",
    "    print(value)"
   ]
  },
  {
   "cell_type": "code",
   "execution_count": 5,
   "id": "8e2cfcf2",
   "metadata": {},
   "outputs": [
    {
     "name": "stdout",
     "output_type": "stream",
     "text": [
      "color\n",
      "age\n"
     ]
    }
   ],
   "source": [
    "for key in spam.keys():\n",
    "    print(key)"
   ]
  },
  {
   "cell_type": "code",
   "execution_count": 6,
   "id": "fb65ca01",
   "metadata": {},
   "outputs": [
    {
     "name": "stdout",
     "output_type": "stream",
     "text": [
      "('color', 'red')\n",
      "('age', 42)\n"
     ]
    }
   ],
   "source": [
    "for item in spam.items():\n",
    "    print(item)"
   ]
  },
  {
   "cell_type": "code",
   "execution_count": null,
   "id": "775fe3a8",
   "metadata": {},
   "outputs": [],
   "source": [
    "#These return tuples of the key and value for true lists use method below"
   ]
  },
  {
   "cell_type": "code",
   "execution_count": 7,
   "id": "3ae951c7",
   "metadata": {},
   "outputs": [
    {
     "data": {
      "text/plain": [
       "dict_keys(['color', 'age'])"
      ]
     },
     "execution_count": 7,
     "metadata": {},
     "output_type": "execute_result"
    }
   ],
   "source": [
    "spam = {'color': 'red', 'age': 42}\n",
    "spam.keys()"
   ]
  },
  {
   "cell_type": "code",
   "execution_count": 13,
   "id": "4e88e46b",
   "metadata": {},
   "outputs": [
    {
     "data": {
      "text/plain": [
       "dict_items([('color', 'red'), ('age', 42)])"
      ]
     },
     "execution_count": 13,
     "metadata": {},
     "output_type": "execute_result"
    }
   ],
   "source": [
    "spam.items()"
   ]
  },
  {
   "cell_type": "code",
   "execution_count": 10,
   "id": "84b97cbc",
   "metadata": {},
   "outputs": [
    {
     "data": {
      "text/plain": [
       "['color', 'age']"
      ]
     },
     "execution_count": 10,
     "metadata": {},
     "output_type": "execute_result"
    }
   ],
   "source": [
    "list(spam.keys())"
   ]
  },
  {
   "cell_type": "code",
   "execution_count": 11,
   "id": "feb15f24",
   "metadata": {},
   "outputs": [
    {
     "data": {
      "text/plain": [
       "['red', 42]"
      ]
     },
     "execution_count": 11,
     "metadata": {},
     "output_type": "execute_result"
    }
   ],
   "source": [
    "list(spam.values())"
   ]
  },
  {
   "cell_type": "code",
   "execution_count": null,
   "id": "cef27819",
   "metadata": {},
   "outputs": [],
   "source": []
  },
  {
   "cell_type": "code",
   "execution_count": 14,
   "id": "c443da2e",
   "metadata": {},
   "outputs": [
    {
     "data": {
      "text/plain": [
       "True"
      ]
     },
     "execution_count": 14,
     "metadata": {},
     "output_type": "execute_result"
    }
   ],
   "source": [
    "#Checking wether a key or value exists\n",
    "spam = {'name': 'sophie', 'age': 23}\n",
    "'name' in spam.keys() or spam.values()"
   ]
  },
  {
   "cell_type": "code",
   "execution_count": 21,
   "id": "a7247077",
   "metadata": {},
   "outputs": [
    {
     "name": "stdout",
     "output_type": "stream",
     "text": [
      "name is a key, here are the other keys:  dict_keys(['name', 'age'])\n"
     ]
    }
   ],
   "source": [
    "if 'name' in spam.values():\n",
    "    print(\"name is a value, here are the other values: \", end = ' ')\n",
    "    print(spam.values())\n",
    "elif 'name' in spam.keys():\n",
    "    print(\"name is a key, here are the other keys: \", end = ' ')\n",
    "    print(spam.keys())\n",
    "else:\n",
    "    print('error')"
   ]
  },
  {
   "cell_type": "code",
   "execution_count": null,
   "id": "93f35499",
   "metadata": {},
   "outputs": [],
   "source": []
  },
  {
   "cell_type": "code",
   "execution_count": 27,
   "id": "4197acee",
   "metadata": {},
   "outputs": [
    {
     "data": {
      "text/plain": [
       "'I am bringing 2 cups.'"
      ]
     },
     "execution_count": 27,
     "metadata": {},
     "output_type": "execute_result"
    }
   ],
   "source": [
    "#The .get() method\n",
    "#takes 2 arguments, the key of a value and a value to return if keys doesnt exist (see '0' in example)\n",
    "\n",
    "picnickItems = {'apples': 5, 'cups': 2}\n",
    "'I am bringing ' + str(picnickItems.get('cups', 0)) + ' cups.' \n"
   ]
  },
  {
   "cell_type": "code",
   "execution_count": 30,
   "id": "9a798b7a",
   "metadata": {},
   "outputs": [
    {
     "name": "stdout",
     "output_type": "stream",
     "text": [
      "I am bringing 0 foods.\n",
      "because there are no foods so ill bring 0\n"
     ]
    }
   ],
   "source": [
    "print('I am bringing ' + str(picnickItems.get('food', 0)) + ' foods.')\n",
    "print('because there are no foods so ill bring 0')"
   ]
  },
  {
   "cell_type": "code",
   "execution_count": 31,
   "id": "3d372a2d",
   "metadata": {},
   "outputs": [],
   "source": [
    "# setdefault() method\n",
    "# set values to keys that dont have a value already\n",
    "#takes 2 arguments, the key of a value and a value to return if keys doesnt exist (see '0' in example)\n",
    "\n",
    "spam = {'name': 'Pooka', 'relation': 'my dog'}\n",
    "if 'color' not in spam:\n",
    "    spam['color'] = 'black'\n",
    "\n",
    "#THIS IS BAD CODE, SETDEFAULT() DOES SAME IN 1 LINE"
   ]
  },
  {
   "cell_type": "code",
   "execution_count": 33,
   "id": "0bc79adc",
   "metadata": {},
   "outputs": [
    {
     "data": {
      "text/plain": [
       "'black'"
      ]
     },
     "execution_count": 33,
     "metadata": {},
     "output_type": "execute_result"
    }
   ],
   "source": [
    "spam = {'name': 'Pooka', 'relation': 'my dog'}\n",
    "spam.setdefault('color', 'black')"
   ]
  },
  {
   "cell_type": "code",
   "execution_count": 35,
   "id": "ad5e0a4b",
   "metadata": {},
   "outputs": [
    {
     "data": {
      "text/plain": [
       "'black'"
      ]
     },
     "execution_count": 35,
     "metadata": {},
     "output_type": "execute_result"
    }
   ],
   "source": [
    "# doesnt do anything if key already has value\n",
    "spam = {'name': 'Pooka', 'relation': 'my dog'}\n",
    "spam.setdefault('color', 'black')\n",
    "spam.setdefault('color', 'white') #Doesnt work cuz color is already assigned a value, called 'black'"
   ]
  },
  {
   "cell_type": "code",
   "execution_count": 38,
   "id": "ae631c47",
   "metadata": {},
   "outputs": [
    {
     "name": "stdout",
     "output_type": "stream",
     "text": [
      "{'I': 1, 't': 6, ' ': 13, 'w': 2, 'a': 4, 's': 3, 'b': 1, 'r': 5, 'i': 6, 'g': 2, 'h': 3, 'c': 3, 'o': 2, 'l': 3, 'd': 3, 'y': 1, 'n': 4, 'A': 1, 'p': 1, ',': 1, 'e': 5, 'k': 2, '.': 1}\n"
     ]
    }
   ],
   "source": [
    "# COUNT NUMBER OF OCCURANCES IN A STRING, VERY VERY USEFUL! \n",
    "\n",
    "message = 'It was a bright cold day in April, and the clocks were striking thirteen.'\n",
    "count = {} #make empty dictionary\n",
    "\n",
    "for character in message:\n",
    "    count.setdefault(character, 0)\n",
    "    count[character] = count[character] + 1\n",
    "print(count)\n",
    "    "
   ]
  },
  {
   "cell_type": "code",
   "execution_count": 39,
   "id": "c588b592",
   "metadata": {},
   "outputs": [
    {
     "name": "stdout",
     "output_type": "stream",
     "text": [
      "{'S': 1, 'p': 1, 'h': 1, 'i': 1, 'n': 1, 'x': 1, ' ': 6, 'o': 2, 'f': 1, 'b': 1, 'l': 1, 'a': 2, 'c': 1, 'k': 1, 'q': 1, 'u': 2, 'r': 1, 't': 1, 'z': 1, ',': 1, 'j': 1, 'd': 1, 'g': 1, 'e': 1, 'm': 1, 'y': 1, 'v': 1, 'w': 1, '.': 1}\n"
     ]
    }
   ],
   "source": [
    "message = 'Sphinx of black quartz, judge my vow.'\n",
    "count = {}\n",
    "\n",
    "for character in message:\n",
    "    count.setdefault(character, 0)\n",
    "    count[character] = count[character] + 1 \n",
    "print(count)"
   ]
  },
  {
   "cell_type": "code",
   "execution_count": 42,
   "id": "c0d51ef1",
   "metadata": {},
   "outputs": [
    {
     "name": "stdout",
     "output_type": "stream",
     "text": [
      "{' ': 13,\n",
      " ',': 1,\n",
      " '.': 1,\n",
      " 'A': 1,\n",
      " 'I': 1,\n",
      " 'a': 4,\n",
      " 'b': 1,\n",
      " 'c': 3,\n",
      " 'd': 3,\n",
      " 'e': 5,\n",
      " 'g': 2,\n",
      " 'h': 3,\n",
      " 'i': 6,\n",
      " 'k': 2,\n",
      " 'l': 3,\n",
      " 'n': 4,\n",
      " 'o': 2,\n",
      " 'p': 1,\n",
      " 'r': 5,\n",
      " 's': 3,\n",
      " 't': 6,\n",
      " 'w': 2,\n",
      " 'y': 1}\n"
     ]
    }
   ],
   "source": [
    "# PRETTY PRINTING FOR DICTIONARIES\n",
    "import pprint\n",
    "\n",
    "message = 'It was a bright cold day in April, and the clocks were striking thirteen.'\n",
    "count = {}\n",
    "for character in message:\n",
    "    count.setdefault(character, 0)\n",
    "    count[character] = count[character] + 1 \n",
    "pprint.pprint(count)"
   ]
  },
  {
   "cell_type": "code",
   "execution_count": null,
   "id": "e3cb75b4",
   "metadata": {},
   "outputs": [],
   "source": []
  },
  {
   "cell_type": "code",
   "execution_count": 45,
   "id": "31a504c9",
   "metadata": {},
   "outputs": [
    {
     "name": "stdout",
     "output_type": "stream",
     "text": [
      " | | \n",
      "-+-+-\n",
      " | | \n",
      "-+-+-\n",
      " | | \n"
     ]
    }
   ],
   "source": [
    "#TIC-TAC-TOE GAME, PG. 120, see workspace/programming/my.projects/ticTacToe.py\n",
    "\n",
    "theBoard = {'top-L': ' ', 'top-M': ' ', 'top-R': ' ',\n",
    "           'mid-L': ' ', 'mid-M': ' ', 'mid-R': ' ',\n",
    "            'low-L': ' ', 'low-M': ' ', 'low-R': ' '}\n",
    "            #Define the board, structure it like a dictionary, p. 122\n",
    "\n",
    "def printBoard(board):\n",
    "    print(board['top-L'] + '|' + board['top-M'] + '|' + board['top-R'])\n",
    "    print('-+-+-')\n",
    "    print(board['mid-L'] + '|' + board['mid-M'] + '|' + board['mid-R'])\n",
    "    print('-+-+-')\n",
    "    print(board['low-L'] + '|' + board['low-M'] + '|' + board['low-R'])\n",
    "printBoard(theBoard) # print the board visualy without values.\n"
   ]
  },
  {
   "cell_type": "code",
   "execution_count": null,
   "id": "94483569",
   "metadata": {},
   "outputs": [
    {
     "name": "stdout",
     "output_type": "stream",
     "text": [
      " | | \n",
      "-+-+-\n",
      " | | \n",
      "-+-+-\n",
      " | | \n",
      "Turn for X move on which space?\n",
      "mid-M\n",
      " | | \n",
      "-+-+-\n",
      " |X| \n",
      "-+-+-\n",
      " | | \n",
      "Turn for O move on which space?\n",
      "top-L\n",
      "O| | \n",
      "-+-+-\n",
      " |X| \n",
      "-+-+-\n",
      " | | \n",
      "Turn for X move on which space?\n",
      "low-L\n",
      "O| | \n",
      "-+-+-\n",
      " |X| \n",
      "-+-+-\n",
      "X| | \n",
      "Turn for O move on which space?\n",
      "top-M\n",
      "O|O| \n",
      "-+-+-\n",
      " |X| \n",
      "-+-+-\n",
      "X| | \n",
      "Turn for X move on which space?\n",
      "top-M\n",
      "O|X| \n",
      "-+-+-\n",
      " |X| \n",
      "-+-+-\n",
      "X| | \n",
      "Turn for O move on which space?\n"
     ]
    }
   ],
   "source": [
    "#THE PLAYABLE VERSION, ONLY MISSES A FUNCTION TO CHECK WHO WON. \n",
    "\n",
    "theBoard = {'top-L': ' ', 'top-M': ' ', 'top-R': ' ',\n",
    "           'mid-L': ' ', 'mid-M': ' ', 'mid-R': ' ',\n",
    "            'low-L': ' ', 'low-M': ' ', 'low-R': ' '}\n",
    "            #Define the board, structure it like a dictionary, p. 122\n",
    "\n",
    "def printBoard(board):\n",
    "    print(board['top-L'] + '|' + board['top-M'] + '|' + board['top-R'])\n",
    "    print('-+-+-')\n",
    "    print(board['mid-L'] + '|' + board['mid-M'] + '|' + board['mid-R'])\n",
    "    print('-+-+-')\n",
    "    print(board['low-L'] + '|' + board['low-M'] + '|' + board['low-R'])\n",
    "\n",
    "turn = 'X'\n",
    "for i in range(9):\n",
    "    printBoard(theBoard) # 1. prints board at start of every turn.\n",
    "    print('Turn for ' + turn + ' move on which space?')\n",
    "    move = input() # 2.gets the active player's move \n",
    "    theBoard[move] = turn # 3. updates the board accordingly\n",
    "    if turn == 'X': # 4. swaps the active player before starting over. \n",
    "        turn = 'O'\n",
    "    else:\n",
    "        turn = 'X'\n",
    "printBoard(theBoard)"
   ]
  },
  {
   "cell_type": "code",
   "execution_count": null,
   "id": "e58a8f4b",
   "metadata": {},
   "outputs": [],
   "source": []
  },
  {
   "cell_type": "code",
   "execution_count": null,
   "id": "ff29d507",
   "metadata": {},
   "outputs": [],
   "source": [
    "#change the values from 'mid-R' to numbers like mid-R == 6\n",
    "\n",
    "theBoard = {'1': ' ', '2': ' ', '3': ' ',\n",
    "           '4': ' ', '5': ' ', '6': ' ',\n",
    "            '7': ' ', '8': ' ', '9': ' '}\n",
    "            #Define the board, structure it like a dictionary, p. 122\n",
    "\n",
    "def printBoard(board):\n",
    "    print(board['1'] + '|' + board['2'] + '|' + board['3'])\n",
    "    print('-+-+-')\n",
    "    print(board['4'] + '|' + board['5'] + '|' + board['6'])\n",
    "    print('-+-+-')\n",
    "    print(board['7'] + '|' + board['8'] + '|' + board['9'])\n",
    "\n",
    "turn = 'X'\n",
    "for i in range(9):\n",
    "    printBoard(theBoard) # 1. prints board at start of every turn.\n",
    "    print('Turn for ' + turn + ' move on which space?')\n",
    "    move = input() # 2.gets the active player's move \n",
    "    theBoard[move] = turn # 3. updates the board accordingly\n",
    "    if turn == 'X': # 4. swaps the active player before starting over. \n",
    "        turn = 'O'\n",
    "    else:\n",
    "        turn = 'X'\n",
    "printBoard(theBoard)"
   ]
  },
  {
   "cell_type": "code",
   "execution_count": null,
   "id": "8fe0a884",
   "metadata": {},
   "outputs": [],
   "source": []
  },
  {
   "cell_type": "code",
   "execution_count": 4,
   "id": "a35d9d80",
   "metadata": {},
   "outputs": [
    {
     "name": "stdout",
     "output_type": "stream",
     "text": [
      "Number of things being brought:\n",
      "- apples:             8\n",
      "- cups:               3\n",
      "- bottles of vodka:   3\n",
      "- bitches:            0\n"
     ]
    }
   ],
   "source": [
    "#Nested dictionaries and lists\n",
    "\n",
    "allGuests = {'Alice': {'apples': 5, 'pretzels': 12},\n",
    "            'Bob': {'ham sandwiches': 3, 'apples': 3},\n",
    "            'Carol': {'cups': 3, 'vodka bottles': 3}}\n",
    "\n",
    "def totalBrought(guest, item):\n",
    "    numBrought = 0 \n",
    "    for k, v in guest.items():\n",
    "        numBrought = numBrought +v.get(item, 0)\n",
    "    return numBrought\n",
    "\n",
    "print('Number of things being brought:')\n",
    "print('- apples:             ' + str(totalBrought(allGuests, 'apples')))\n",
    "print('- cups:               ' + str(totalBrought(allGuests, 'cups')))\n",
    "print('- bottles of vodka:   ' + str(totalBrought(allGuests, 'vodka bottles')))\n",
    "print('- bitches:            ' + str(totalBrought(allGuests, 'bitches')))"
   ]
  },
  {
   "cell_type": "code",
   "execution_count": null,
   "id": "5d98259b",
   "metadata": {},
   "outputs": [],
   "source": []
  },
  {
   "cell_type": "code",
   "execution_count": null,
   "id": "fe29d85a",
   "metadata": {},
   "outputs": [],
   "source": [
    "#PRACTICE PROJECT: FANTASY GAME INVENTORY, P.127\n"
   ]
  }
 ],
 "metadata": {
  "kernelspec": {
   "display_name": "Python 3",
   "language": "python",
   "name": "python3"
  },
  "language_info": {
   "codemirror_mode": {
    "name": "ipython",
    "version": 3
   },
   "file_extension": ".py",
   "mimetype": "text/x-python",
   "name": "python",
   "nbconvert_exporter": "python",
   "pygments_lexer": "ipython3",
   "version": "3.9.5"
  }
 },
 "nbformat": 4,
 "nbformat_minor": 5
}
