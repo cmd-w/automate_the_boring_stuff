{
 "cells": [
  {
   "cell_type": "code",
   "execution_count": 50,
   "id": "cacd6f8c",
   "metadata": {},
   "outputs": [
    {
     "data": {
      "text/plain": [
       "True"
      ]
     },
     "execution_count": 50,
     "metadata": {},
     "output_type": "execute_result"
    }
   ],
   "source": [
    "not not not not True\n"
   ]
  },
  {
   "cell_type": "code",
   "execution_count": 49,
   "id": "a5e1a49b",
   "metadata": {},
   "outputs": [
    {
     "data": {
      "text/plain": [
       "True"
      ]
     },
     "execution_count": 49,
     "metadata": {},
     "output_type": "execute_result"
    }
   ],
   "source": [
    "(4 > 3) and (5 > 4)\n",
    "\n",
    "# True and True \n",
    "# = True"
   ]
  },
  {
   "cell_type": "code",
   "execution_count": 48,
   "id": "e6c280d1",
   "metadata": {},
   "outputs": [
    {
     "data": {
      "text/plain": [
       "False"
      ]
     },
     "execution_count": 48,
     "metadata": {},
     "output_type": "execute_result"
    }
   ],
   "source": [
    "(4 > 3) and (5 < 4)\n",
    "\n",
    "#True and False \n",
    "# = False "
   ]
  },
  {
   "cell_type": "code",
   "execution_count": 47,
   "id": "c8fdea17",
   "metadata": {},
   "outputs": [
    {
     "data": {
      "text/plain": [
       "True"
      ]
     },
     "execution_count": 47,
     "metadata": {},
     "output_type": "execute_result"
    }
   ],
   "source": [
    "2 + 2 == 4 and not 2 + 2 == 5 and 2 * 2 == 4\n"
   ]
  },
  {
   "cell_type": "code",
   "execution_count": 46,
   "id": "ff593dbd",
   "metadata": {},
   "outputs": [
    {
     "name": "stdout",
     "output_type": "stream",
     "text": [
      "Hello Mary!\n",
      "acces granted\n"
     ]
    }
   ],
   "source": [
    "name = 'Mary'\n",
    "password = 'swordfish'\n",
    "\n",
    "if name == 'Mary':\n",
    "    print(\"Hello Mary!\")\n",
    "    if password == 'swordfish':\n",
    "        print('acces granted')\n",
    "    else:\n",
    "        print('acces denied')\n"
   ]
  },
  {
   "cell_type": "code",
   "execution_count": 45,
   "id": "4aa1c93a",
   "metadata": {},
   "outputs": [
    {
     "name": "stdout",
     "output_type": "stream",
     "text": [
      "You are not Mary, you undying vampire.\n"
     ]
    }
   ],
   "source": [
    "name = 'Alice'\n",
    "age = '3000'\n",
    "\n",
    "if name == 'Mary':\n",
    "    print('Hi, Mary!')\n",
    "elif age < str(12):\n",
    "    print('You are not Mary, kiddo')\n",
    "elif age > str(2000): \n",
    "    print('You are not Mary, you undying vampire.')\n",
    "elif age > str(100): \n",
    "    print('You are not Mary, granny')"
   ]
  },
  {
   "cell_type": "code",
   "execution_count": 44,
   "id": "b7aa9ff5",
   "metadata": {},
   "outputs": [
    {
     "name": "stdout",
     "output_type": "stream",
     "text": [
      "Hello World!\n"
     ]
    }
   ],
   "source": [
    "spam = 0 \n",
    "if spam < 5:\n",
    "    print('Hello World!')\n",
    "    spam = spam + 1"
   ]
  },
  {
   "cell_type": "code",
   "execution_count": 52,
   "id": "44703f7e",
   "metadata": {},
   "outputs": [
    {
     "name": "stdout",
     "output_type": "stream",
     "text": [
      "Hello World\n",
      "Hello World\n",
      "Hello World\n",
      "Hello World\n",
      "Hello World\n"
     ]
    }
   ],
   "source": [
    "spam = 0 \n",
    "while spam < 5: \n",
    "    print('Hello World')\n",
    "    spam = spam + 1 "
   ]
  },
  {
   "cell_type": "code",
   "execution_count": 53,
   "id": "a0809378",
   "metadata": {},
   "outputs": [
    {
     "name": "stdout",
     "output_type": "stream",
     "text": [
      "Please type your name: \n",
      "artuur\n",
      "Please type your name: \n",
      "hallo\n",
      "Please type your name: \n",
      "piemel \n",
      "Please type your name: \n",
      "cool \n",
      "Please type your name: \n",
      "immature\n",
      "Please type your name: \n",
      "your name\n",
      "Thank you!\n"
     ]
    }
   ],
   "source": [
    "name = ''\n",
    "while name != 'your name':\n",
    "    print(\"Please type your name: \")\n",
    "    name = input()\n",
    "print('Thank you!')"
   ]
  },
  {
   "cell_type": "code",
   "execution_count": 55,
   "id": "46583903",
   "metadata": {},
   "outputs": [
    {
     "name": "stdout",
     "output_type": "stream",
     "text": [
      "Please type your name\n",
      "nee\n",
      "Please type your name\n",
      "artuur\n",
      "Please type your name\n",
      "aline\n",
      "Please type your name\n",
      "your name\n",
      "Thank you!\n"
     ]
    }
   ],
   "source": [
    "while True:\n",
    "    print('Please type your name')\n",
    "    name = input()\n",
    "    if name == 'your name':\n",
    "        break \n",
    "print('Thank you!')"
   ]
  },
  {
   "cell_type": "code",
   "execution_count": 56,
   "id": "6f94b5e7",
   "metadata": {},
   "outputs": [
    {
     "name": "stdout",
     "output_type": "stream",
     "text": [
      "Who are you?\n",
      "mary \n",
      "Who are you?\n",
      "aline\n",
      "Who are you?\n",
      "Joe\n",
      "Hello Joe, what's your password? (It's a fish...)\n",
      "pufferfish\n",
      "Who are you?\n",
      "Joe\n",
      "Hello Joe, what's your password? (It's a fish...)\n",
      "swordfish\n",
      "acces granted\n"
     ]
    }
   ],
   "source": [
    "while True:\n",
    "    print(\"Who are you?\")\n",
    "    name = input()\n",
    "    if name != 'Joe':\n",
    "        continue \n",
    "    print(\"Hello Joe, what's your password? (It's a fish...)\")\n",
    "    password = input()\n",
    "    if password == 'swordfish':\n",
    "        break\n",
    "print('acces granted')"
   ]
  },
  {
   "cell_type": "code",
   "execution_count": 58,
   "id": "a8c45d11",
   "metadata": {},
   "outputs": [
    {
     "name": "stdout",
     "output_type": "stream",
     "text": [
      "my name is\n",
      "Jimmy Five Times (0)\n",
      "Jimmy Five Times (1)\n",
      "Jimmy Five Times (2)\n",
      "Jimmy Five Times (3)\n",
      "Jimmy Five Times (4)\n"
     ]
    }
   ],
   "source": [
    "print('my name is')\n",
    "for i in range(5):\n",
    "    print('Jimmy Five Times (' + str(i) + ')')"
   ]
  },
  {
   "cell_type": "code",
   "execution_count": 59,
   "id": "fe6059bc",
   "metadata": {},
   "outputs": [
    {
     "name": "stdout",
     "output_type": "stream",
     "text": [
      "5050\n"
     ]
    }
   ],
   "source": [
    "# Add up all the numbers from 0 to 100 --> Gauss problem \n",
    "total = 0 \n",
    "for num in range(101):\n",
    "    total = total + num \n",
    "print(total)"
   ]
  },
  {
   "cell_type": "code",
   "execution_count": 60,
   "id": "fc941a34",
   "metadata": {},
   "outputs": [
    {
     "name": "stdout",
     "output_type": "stream",
     "text": [
      "12\n",
      "13\n",
      "14\n",
      "15\n"
     ]
    }
   ],
   "source": [
    "for i in range(12, 16):\n",
    "    print(i)"
   ]
  },
  {
   "cell_type": "code",
   "execution_count": 61,
   "id": "c9b18333",
   "metadata": {},
   "outputs": [
    {
     "name": "stdout",
     "output_type": "stream",
     "text": [
      "0\n",
      "2\n",
      "4\n",
      "6\n",
      "8\n"
     ]
    }
   ],
   "source": [
    "for i in range(0, 10, 2):\n",
    "    print(i)"
   ]
  },
  {
   "cell_type": "code",
   "execution_count": 63,
   "id": "b255b067",
   "metadata": {},
   "outputs": [
    {
     "name": "stdout",
     "output_type": "stream",
     "text": [
      "5\n",
      "4\n",
      "3\n",
      "2\n",
      "1\n",
      "0\n"
     ]
    }
   ],
   "source": [
    "for i in range(5, -1, -1):\n",
    "    print(i)"
   ]
  },
  {
   "cell_type": "code",
   "execution_count": 64,
   "id": "ddd58bb7",
   "metadata": {
    "scrolled": true
   },
   "outputs": [
    {
     "name": "stdout",
     "output_type": "stream",
     "text": [
      "1\n",
      "8\n",
      "8\n",
      "9\n",
      "9\n"
     ]
    }
   ],
   "source": [
    "import random \n",
    "for i in range(5):\n",
    "    print(random.randint(1, 10))"
   ]
  },
  {
   "cell_type": "code",
   "execution_count": 69,
   "id": "4106c2b8",
   "metadata": {},
   "outputs": [
    {
     "name": "stdout",
     "output_type": "stream",
     "text": [
      "66\n",
      "94\n",
      "70\n",
      "92\n",
      "71\n",
      "3\n",
      "37\n",
      "93\n",
      "65\n",
      "3\n"
     ]
    }
   ],
   "source": [
    "# ik wil 10 random nummers van 0 tot en met 100 \n",
    "\n",
    "import random \n",
    "for i in range(10):\n",
    "    print(random.randint(0, 100))"
   ]
  },
  {
   "cell_type": "code",
   "execution_count": 70,
   "id": "0d523e00",
   "metadata": {
    "collapsed": true
   },
   "outputs": [
    {
     "name": "stdout",
     "output_type": "stream",
     "text": [
      "100\n",
      "99\n",
      "98\n",
      "97\n",
      "96\n",
      "95\n",
      "94\n",
      "93\n",
      "92\n",
      "91\n",
      "90\n",
      "89\n",
      "88\n",
      "87\n",
      "86\n",
      "85\n",
      "84\n",
      "83\n",
      "82\n",
      "81\n",
      "80\n",
      "79\n",
      "78\n",
      "77\n",
      "76\n",
      "75\n",
      "74\n",
      "73\n",
      "72\n",
      "71\n",
      "70\n",
      "69\n",
      "68\n",
      "67\n",
      "66\n",
      "65\n",
      "64\n",
      "63\n",
      "62\n",
      "61\n",
      "60\n",
      "59\n",
      "58\n",
      "57\n",
      "56\n",
      "55\n",
      "54\n",
      "53\n",
      "52\n",
      "51\n",
      "50\n",
      "49\n",
      "48\n",
      "47\n",
      "46\n",
      "45\n",
      "44\n",
      "43\n",
      "42\n",
      "41\n",
      "40\n",
      "39\n",
      "38\n",
      "37\n",
      "36\n",
      "35\n",
      "34\n",
      "33\n",
      "32\n",
      "31\n",
      "30\n",
      "29\n",
      "28\n",
      "27\n",
      "26\n",
      "25\n",
      "24\n",
      "23\n",
      "22\n",
      "21\n",
      "20\n",
      "19\n",
      "18\n",
      "17\n",
      "16\n",
      "15\n",
      "14\n",
      "13\n",
      "12\n",
      "11\n",
      "10\n",
      "9\n",
      "8\n",
      "7\n",
      "6\n",
      "5\n",
      "4\n",
      "3\n",
      "2\n",
      "1\n",
      "0\n"
     ]
    }
   ],
   "source": [
    "for i in range(100, -1, -1):\n",
    "    print(i)"
   ]
  },
  {
   "cell_type": "code",
   "execution_count": 71,
   "id": "4c286018",
   "metadata": {},
   "outputs": [
    {
     "name": "stdout",
     "output_type": "stream",
     "text": [
      "I am thinking of a number between 1 and 20.\n",
      "Take a guess\n",
      "4\n",
      "Goodjob! You guessed my number in 1 guesses!\n"
     ]
    }
   ],
   "source": [
    "# This is a guess number game. \n",
    "\n",
    "import random\n",
    "secretNumber = random.randint(1, 20)\n",
    "print('I am thinking of a number between 1 and 20.')\n",
    "\n",
    "# ask the player to guess 6 times\n",
    "\n",
    "for guessesTaken in range(1, 7):\n",
    "    print('Take a guess')\n",
    "    guess = int(input())\n",
    "    \n",
    "    if guess < secretNumber:\n",
    "        print('Your guess is too low.')\n",
    "    elif guess > secretNumber:\n",
    "        print('Your guess is too high')\n",
    "    else:\n",
    "        break #aka this is the correct number. \n",
    "\n",
    "if guess == secretNumber:\n",
    "    print('Good job! You guessed my number in ' + str(guessesTaken) + ' guesses!')\n",
    "else:\n",
    "    print('Nope, the number I was thinking of was ' + str(secretNumber))"
   ]
  },
  {
   "cell_type": "code",
   "execution_count": null,
   "id": "98bcb344",
   "metadata": {},
   "outputs": [],
   "source": []
  }
 ],
 "metadata": {
  "kernelspec": {
   "display_name": "Python 3",
   "language": "python",
   "name": "python3"
  },
  "language_info": {
   "codemirror_mode": {
    "name": "ipython",
    "version": 3
   },
   "file_extension": ".py",
   "mimetype": "text/x-python",
   "name": "python",
   "nbconvert_exporter": "python",
   "pygments_lexer": "ipython3",
   "version": "3.9.2"
  }
 },
 "nbformat": 4,
 "nbformat_minor": 5
}
