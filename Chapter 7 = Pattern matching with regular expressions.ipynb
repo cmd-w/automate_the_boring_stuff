{
 "cells": [
  {
   "cell_type": "code",
   "execution_count": 7,
   "id": "79972d98",
   "metadata": {},
   "outputs": [
    {
     "name": "stdout",
     "output_type": "stream",
     "text": [
      "Is 415-555-4242 an American phonenumber?\n",
      "True\n",
      "Is moshi-moshi an American phonenumber?\n",
      "False\n"
     ]
    }
   ],
   "source": [
    "# Finding text patterns WITHOUT regular expressions\n",
    "# Find out if text is American phone number\n",
    "\n",
    "def isPhoneNumber(text):\n",
    "    if len(text) != 12:\n",
    "        return False \n",
    "    for i in range(0, 3):\n",
    "        if not text[i].isdecimal():\n",
    "            return False\n",
    "    if text[3] != '-':\n",
    "        return False\n",
    "    for i in range(4, 7): \n",
    "        if not text[i].isdecimal():\n",
    "            return False\n",
    "    if text[7] != '-':\n",
    "        return False\n",
    "    for i in range(8, 12):\n",
    "        if not text[i].isdecimal():\n",
    "            return False\n",
    "    return True\n",
    "\n",
    "print('Is 415-555-4242 an American phonenumber?')\n",
    "print(isPhoneNumber('415-555-4242'))\n",
    "\n",
    "print('Is moshi-moshi an American phonenumber?')\n",
    "print(isPhoneNumber('moshi-moshi'))"
   ]
  },
  {
   "cell_type": "code",
   "execution_count": 8,
   "id": "f2fdad8d",
   "metadata": {},
   "outputs": [
    {
     "name": "stdout",
     "output_type": "stream",
     "text": [
      "Phone number found: 415-555-4242\n",
      "Phone number found: 415-555-9999\n",
      "Done\n"
     ]
    }
   ],
   "source": [
    "def isPhoneNumber(text):\n",
    "    if len(text) != 12:\n",
    "        return False \n",
    "    for i in range(0, 3):\n",
    "        if not text[i].isdecimal():\n",
    "            return False\n",
    "    if text[3] != '-':\n",
    "        return False\n",
    "    for i in range(4, 7): \n",
    "        if not text[i].isdecimal():\n",
    "            return False\n",
    "    if text[7] != '-':\n",
    "        return False\n",
    "    for i in range(8, 12):\n",
    "        if not text[i].isdecimal():\n",
    "            return False\n",
    "    return True\n",
    "\n",
    "message = 'Call me at 415-555-4242 tomorrow. 415-555-9999 is my office.'\n",
    "for i in range(len(message)):\n",
    "    chunk = message[i:i+12] # Pakt telkens 12 chars en stored ze in chunk. elke iteration doet het de volgende 12.\n",
    "    if isPhoneNumber(chunk):\n",
    "        print('Phone number found: ' + chunk)\n",
    "print('Done')"
   ]
  },
  {
   "cell_type": "code",
   "execution_count": null,
   "id": "7a3eaf3e",
   "metadata": {},
   "outputs": [],
   "source": [
    "# finding patterns WITH regular expressions (regexes)"
   ]
  },
  {
   "cell_type": "code",
   "execution_count": 11,
   "id": "a8acbbf2",
   "metadata": {},
   "outputs": [],
   "source": [
    "# creating regrex objects and using them \n",
    "import re\n",
    "\n",
    "phoneNumRegex = re.compile(r'\\d\\d\\d-\\d\\d\\d-\\d\\d\\d\\d') # \\d = digit-character (0 - 9) "
   ]
  },
  {
   "cell_type": "code",
   "execution_count": 14,
   "id": "621b099f",
   "metadata": {
    "scrolled": true
   },
   "outputs": [
    {
     "name": "stdout",
     "output_type": "stream",
     "text": [
      "Phone number found: 415-555-9999\n"
     ]
    }
   ],
   "source": [
    "# Matching regex objects \n",
    "import re \n",
    "\n",
    "phoneNumRegex = re.compile(r'\\d\\d\\d-\\d\\d\\d-\\d\\d\\d\\d') # makes regex variable \n",
    "match = phoneNumRegex.search('My number is 415-555-9999.') # search() = searches str to see if it matches the regex\n",
    "print('Phone number found: ' + match.group()) #group() = returns matched data from search() function "
   ]
  },
  {
   "cell_type": "code",
   "execution_count": null,
   "id": "9ec10fdc",
   "metadata": {},
   "outputs": [],
   "source": []
  },
  {
   "cell_type": "markdown",
   "id": "c2eb6ee9",
   "metadata": {},
   "source": [
    "TEST VOOR MEZELF, KAN IK HETZELFDE MAKEN VOOR BELGISCHE NUMMERS?? "
   ]
  },
  {
   "cell_type": "code",
   "execution_count": 5,
   "id": "ed0195ce",
   "metadata": {},
   "outputs": [
    {
     "name": "stdout",
     "output_type": "stream",
     "text": [
      "Belgisch telefoon nummer gevonden: 04 85 22 54 26\n"
     ]
    }
   ],
   "source": [
    "import re \n",
    "BelgTelefoonNum = re.compile(r'\\d\\d \\d\\d \\d\\d \\d\\d \\d\\d')\n",
    "match = BelgTelefoonNum.search('hallo ik ben jan mijn nummer is 04 85 22 54 26')\n",
    "print('Belgisch telefoon nummer gevonden: ' + match.group())"
   ]
  },
  {
   "cell_type": "code",
   "execution_count": null,
   "id": "b85edf3e",
   "metadata": {},
   "outputs": [],
   "source": []
  },
  {
   "cell_type": "markdown",
   "id": "85d20559",
   "metadata": {},
   "source": [
    "----------------------------------------\n",
    "REVIEW OF REGULAR EXPRESSION MATCHING\n",
    "--------------------------------------\n",
    "    1. Import regex module --> import re\n",
    "    2. create regex object --? re.compile()\n",
    "    3. pass the data into search(), this returns a match object \n",
    "    4. call the match object's group() "
   ]
  },
  {
   "cell_type": "code",
   "execution_count": 22,
   "id": "53c617e7",
   "metadata": {},
   "outputs": [
    {
     "name": "stdout",
     "output_type": "stream",
     "text": [
      "415\n",
      "\n",
      "This is part two >> 555-9999\n",
      "This is the full num >> 415-555-9999\n"
     ]
    }
   ],
   "source": [
    "# Grouping with parantheses\n",
    "# filter area code from the rest (first 3 num = area code)\n",
    "\n",
    "import re \n",
    "phoneNumRegex = re.compile(r'(\\d\\d\\d)-(\\d\\d\\d-\\d\\d\\d\\d)')\n",
    "match = phoneNumRegex.search('My number is 415-555-9999')\n",
    "\n",
    "print(match.group(1))\n",
    "print(end='\\n')\n",
    "print('This is part two >> ' + match.group(2))\n",
    "print('This is the full num >> ' + match.group(0))"
   ]
  },
  {
   "cell_type": "code",
   "execution_count": 30,
   "id": "0bd7c807",
   "metadata": {},
   "outputs": [
    {
     "name": "stdout",
     "output_type": "stream",
     "text": [
      "415\n",
      "515-9999\n",
      "Full number >> ('415', '515-9999')\n"
     ]
    }
   ],
   "source": [
    "import re \n",
    "\n",
    "gsmNumRegex = re.compile(r'(\\d\\d\\d)-(\\d\\d\\d-\\d\\d\\d\\d)')\n",
    "match = gsmNumRegex.search('415-515-9999')\n",
    "areaCode, mainNumber = match.groups() #NOTE THE PLURAL FORM OF GROUP() FUNCTION\n",
    "\n",
    "print(areaCode)\n",
    "print(mainNumber) \n",
    "print('Full number >> ' + str(match.groups())) # Str moet door dat je geen tuples kan concatenaten"
   ]
  },
  {
   "cell_type": "code",
   "execution_count": 33,
   "id": "a1e17dff",
   "metadata": {},
   "outputs": [
    {
     "data": {
      "text/plain": [
       "'(415)'"
      ]
     },
     "execution_count": 33,
     "metadata": {},
     "output_type": "execute_result"
    }
   ],
   "source": [
    "# Wat als je parantheses moet gebruiken als regex??\n",
    "#ZIE PG 167 VOOR UITZONDERINGEN BIJ SPECIAL CHARS\n",
    "\n",
    "phoneNumRegex = re.compile(r'(\\(\\d\\d\\d\\)) (\\d\\d\\d-\\d\\d\\d\\d)')\n",
    "match = phoneNumRegex.search('My phone number is (415) 555-9999')\n",
    "match.group(1)"
   ]
  },
  {
   "cell_type": "code",
   "execution_count": null,
   "id": "adf7ce6f",
   "metadata": {},
   "outputs": [],
   "source": [
    "# MATCHING MULTIPLE GROUPS WITH THE PIPE"
   ]
  }
 ],
 "metadata": {
  "kernelspec": {
   "display_name": "Python 3",
   "language": "python",
   "name": "python3"
  },
  "language_info": {
   "codemirror_mode": {
    "name": "ipython",
    "version": 3
   },
   "file_extension": ".py",
   "mimetype": "text/x-python",
   "name": "python",
   "nbconvert_exporter": "python",
   "pygments_lexer": "ipython3",
   "version": "3.9.5"
  }
 },
 "nbformat": 4,
 "nbformat_minor": 5
}
