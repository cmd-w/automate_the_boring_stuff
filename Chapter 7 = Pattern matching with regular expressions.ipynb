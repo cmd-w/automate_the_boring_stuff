{
 "cells": [
  {
   "cell_type": "code",
   "execution_count": 7,
   "id": "79972d98",
   "metadata": {},
   "outputs": [
    {
     "name": "stdout",
     "output_type": "stream",
     "text": [
      "Is 415-555-4242 an American phonenumber?\n",
      "True\n",
      "Is moshi-moshi an American phonenumber?\n",
      "False\n"
     ]
    }
   ],
   "source": [
    "# Finding text patterns WITHOUT regular expressions\n",
    "# Find out if text is American phone number\n",
    "\n",
    "def isPhoneNumber(text):\n",
    "    if len(text) != 12:\n",
    "        return False \n",
    "    for i in range(0, 3):\n",
    "        if not text[i].isdecimal():\n",
    "            return False\n",
    "    if text[3] != '-':\n",
    "        return False\n",
    "    for i in range(4, 7): \n",
    "        if not text[i].isdecimal():\n",
    "            return False\n",
    "    if text[7] != '-':\n",
    "        return False\n",
    "    for i in range(8, 12):\n",
    "        if not text[i].isdecimal():\n",
    "            return False\n",
    "    return True\n",
    "\n",
    "print('Is 415-555-4242 an American phonenumber?')\n",
    "print(isPhoneNumber('415-555-4242'))\n",
    "\n",
    "print('Is moshi-moshi an American phonenumber?')\n",
    "print(isPhoneNumber('moshi-moshi'))"
   ]
  },
  {
   "cell_type": "code",
   "execution_count": 8,
   "id": "f2fdad8d",
   "metadata": {},
   "outputs": [
    {
     "name": "stdout",
     "output_type": "stream",
     "text": [
      "Phone number found: 415-555-4242\n",
      "Phone number found: 415-555-9999\n",
      "Done\n"
     ]
    }
   ],
   "source": [
    "def isPhoneNumber(text):\n",
    "    if len(text) != 12:\n",
    "        return False \n",
    "    for i in range(0, 3):\n",
    "        if not text[i].isdecimal():\n",
    "            return False\n",
    "    if text[3] != '-':\n",
    "        return False\n",
    "    for i in range(4, 7): \n",
    "        if not text[i].isdecimal():\n",
    "            return False\n",
    "    if text[7] != '-':\n",
    "        return False\n",
    "    for i in range(8, 12):\n",
    "        if not text[i].isdecimal():\n",
    "            return False\n",
    "    return True\n",
    "\n",
    "message = 'Call me at 415-555-4242 tomorrow. 415-555-9999 is my office.'\n",
    "for i in range(len(message)):\n",
    "    chunk = message[i:i+12] # Pakt telkens 12 chars en stored ze in chunk. elke iteration doet het de volgende 12.\n",
    "    if isPhoneNumber(chunk):\n",
    "        print('Phone number found: ' + chunk)\n",
    "print('Done')"
   ]
  },
  {
   "cell_type": "code",
   "execution_count": null,
   "id": "7a3eaf3e",
   "metadata": {},
   "outputs": [],
   "source": [
    "# finding patterns WITH regular expressions (regexes)"
   ]
  },
  {
   "cell_type": "code",
   "execution_count": 11,
   "id": "a8acbbf2",
   "metadata": {},
   "outputs": [],
   "source": [
    "# creating regrex objects and using them \n",
    "import re\n",
    "\n",
    "phoneNumRegex = re.compile(r'\\d\\d\\d-\\d\\d\\d-\\d\\d\\d\\d') # \\d = digit-character (0 - 9) "
   ]
  },
  {
   "cell_type": "code",
   "execution_count": 14,
   "id": "621b099f",
   "metadata": {
    "scrolled": true
   },
   "outputs": [
    {
     "name": "stdout",
     "output_type": "stream",
     "text": [
      "Phone number found: 415-555-9999\n"
     ]
    }
   ],
   "source": [
    "# Matching regex objects \n",
    "import re \n",
    "\n",
    "phoneNumRegex = re.compile(r'\\d\\d\\d-\\d\\d\\d-\\d\\d\\d\\d') # makes regex variable \n",
    "match = phoneNumRegex.search('My number is 415-555-9999.') # search() = searches str to see if it matches the regex\n",
    "print('Phone number found: ' + match.group()) #group() = returns matched data from search() function "
   ]
  },
  {
   "cell_type": "code",
   "execution_count": null,
   "id": "9ec10fdc",
   "metadata": {},
   "outputs": [],
   "source": []
  },
  {
   "cell_type": "markdown",
   "id": "c2eb6ee9",
   "metadata": {},
   "source": [
    "TEST VOOR MEZELF, KAN IK HETZELFDE MAKEN VOOR BELGISCHE NUMMERS?? "
   ]
  },
  {
   "cell_type": "code",
   "execution_count": 5,
   "id": "ed0195ce",
   "metadata": {},
   "outputs": [
    {
     "name": "stdout",
     "output_type": "stream",
     "text": [
      "Belgisch telefoon nummer gevonden: 04 85 22 54 26\n"
     ]
    }
   ],
   "source": [
    "import re \n",
    "BelgTelefoonNum = re.compile(r'\\d\\d \\d\\d \\d\\d \\d\\d \\d\\d')\n",
    "match = BelgTelefoonNum.search('hallo ik ben jan mijn nummer is 04 85 22 54 26')\n",
    "print('Belgisch telefoon nummer gevonden: ' + match.group())"
   ]
  },
  {
   "cell_type": "code",
   "execution_count": null,
   "id": "b85edf3e",
   "metadata": {},
   "outputs": [],
   "source": []
  },
  {
   "cell_type": "markdown",
   "id": "85d20559",
   "metadata": {},
   "source": [
    "----------------------------------------\n",
    "REVIEW OF REGULAR EXPRESSION MATCHING\n",
    "--------------------------------------\n",
    "    1. Import regex module --> import re\n",
    "    2. create regex object --? re.compile()\n",
    "    3. pass the data into search(), this returns a match object \n",
    "    4. call the match object's group() "
   ]
  },
  {
   "cell_type": "code",
   "execution_count": 22,
   "id": "53c617e7",
   "metadata": {},
   "outputs": [
    {
     "name": "stdout",
     "output_type": "stream",
     "text": [
      "415\n",
      "\n",
      "This is part two >> 555-9999\n",
      "This is the full num >> 415-555-9999\n"
     ]
    }
   ],
   "source": [
    "# Grouping with parantheses\n",
    "# filter area code from the rest (first 3 num = area code)\n",
    "\n",
    "import re \n",
    "phoneNumRegex = re.compile(r'(\\d\\d\\d)-(\\d\\d\\d-\\d\\d\\d\\d)')\n",
    "match = phoneNumRegex.search('My number is 415-555-9999')\n",
    "\n",
    "print(match.group(1))\n",
    "print(end='\\n')\n",
    "print('This is part two >> ' + match.group(2))\n",
    "print('This is the full num >> ' + match.group(0))"
   ]
  },
  {
   "cell_type": "code",
   "execution_count": 30,
   "id": "0bd7c807",
   "metadata": {},
   "outputs": [
    {
     "name": "stdout",
     "output_type": "stream",
     "text": [
      "415\n",
      "515-9999\n",
      "Full number >> ('415', '515-9999')\n"
     ]
    }
   ],
   "source": [
    "import re \n",
    "\n",
    "gsmNumRegex = re.compile(r'(\\d\\d\\d)-(\\d\\d\\d-\\d\\d\\d\\d)')\n",
    "match = gsmNumRegex.search('415-515-9999')\n",
    "areaCode, mainNumber = match.groups() #NOTE THE PLURAL FORM OF GROUP() FUNCTION\n",
    "\n",
    "print(areaCode)\n",
    "print(mainNumber) \n",
    "print('Full number >> ' + str(match.groups())) # Str moet door dat je geen tuples kan concatenaten"
   ]
  },
  {
   "cell_type": "code",
   "execution_count": 33,
   "id": "a1e17dff",
   "metadata": {},
   "outputs": [
    {
     "data": {
      "text/plain": [
       "'(415)'"
      ]
     },
     "execution_count": 33,
     "metadata": {},
     "output_type": "execute_result"
    }
   ],
   "source": [
    "# Wat als je parantheses moet gebruiken als regex??\n",
    "#ZIE PG 167 VOOR UITZONDERINGEN BIJ SPECIAL CHARS\n",
    "\n",
    "phoneNumRegex = re.compile(r'(\\(\\d\\d\\d\\)) (\\d\\d\\d-\\d\\d\\d\\d)')\n",
    "match = phoneNumRegex.search('My phone number is (415) 555-9999')\n",
    "match.group(1)"
   ]
  },
  {
   "cell_type": "code",
   "execution_count": 3,
   "id": "adf7ce6f",
   "metadata": {},
   "outputs": [
    {
     "name": "stdout",
     "output_type": "stream",
     "text": [
      "first output match = batman\n",
      "second output match = tina turner\n"
     ]
    }
   ],
   "source": [
    "# MATCHING MULTIPLE GROUPS WITH THE PIPE\n",
    "# the | char is a pipe , USE: match one or many arguments \n",
    "import re\n",
    "\n",
    "heroRegex = re.compile(r'batman|tina turner')\n",
    "mo1 = heroRegex.search('batman and tina turner')\n",
    "print('first output match = ' + mo1.group())\n",
    "\n",
    "mo2 = heroRegex.search('tina turner and batman')\n",
    "print('second output match = ' + mo2.group())"
   ]
  },
  {
   "cell_type": "code",
   "execution_count": 11,
   "id": "002576e2",
   "metadata": {},
   "outputs": [
    {
     "name": "stdout",
     "output_type": "stream",
     "text": [
      "- batmobile\n",
      "- batbitch\n"
     ]
    }
   ],
   "source": [
    "# Also useful to match multiple patterns\n",
    "# example = batmobile, batsuit, batbitch\n",
    "import re \n",
    "\n",
    "multiMatch = re.compile(r'bat(mobile|suit|bitch)')\n",
    "m1 = multiMatch.search('batmobile lost a wheel')\n",
    "m2 = multiMatch.search('tina is a batbitch')\n",
    "\n",
    "print('- ' + m1.group())\n",
    "print('- ' + m2.group())"
   ]
  },
  {
   "cell_type": "code",
   "execution_count": 14,
   "id": "c92e3b8c",
   "metadata": {},
   "outputs": [
    {
     "name": "stdout",
     "output_type": "stream",
     "text": [
      "Batman\n",
      "Batwoman\n"
     ]
    }
   ],
   "source": [
    "# Optional matching with the Question mark (?)\n",
    "# regex needs to find a match, regardless of whether that bit of text is there.\n",
    "import re \n",
    "batRegex = re.compile(r'Bat(wo)?man')\n",
    "m1 = batRegex.search('The adventures of Batman')\n",
    "print(m1.group())\n",
    "\n",
    "m2 = batRegex.search('The adventures of Batwoman')\n",
    "print(m2.group())\n",
    "\n",
    "# The (wo)? means that it is a optional part"
   ]
  },
  {
   "cell_type": "code",
   "execution_count": 16,
   "id": "fd71f068",
   "metadata": {},
   "outputs": [
    {
     "name": "stdout",
     "output_type": "stream",
     "text": [
      "415-424-9999\n",
      "420-9999\n"
     ]
    }
   ],
   "source": [
    "# EXERCISE = match phone numbers with optional area code\n",
    "\n",
    "import re \n",
    "\n",
    "phoneRegex = re.compile(r'(\\d\\d\\d-)?\\d\\d\\d-\\d\\d\\d\\d')\n",
    "m1 = phoneRegex.search('my number is: 415-424-9999')\n",
    "print(m1.group())\n",
    "\n",
    "m2 = phoneRegex.search('420-9999')\n",
    "print(m2.group())"
   ]
  },
  {
   "cell_type": "code",
   "execution_count": 18,
   "id": "801319c6",
   "metadata": {},
   "outputs": [
    {
     "data": {
      "text/plain": [
       "'?'"
      ]
     },
     "execution_count": 18,
     "metadata": {},
     "output_type": "execute_result"
    }
   ],
   "source": [
    "# Match ? by escaping it with \\? \n",
    "import re \n",
    "\n",
    "testReg = re.compile('\\?')\n",
    "m1 = testReg.search('Am I a cool dude?')\n",
    "m1.group()"
   ]
  },
  {
   "cell_type": "code",
   "execution_count": null,
   "id": "39af99de",
   "metadata": {},
   "outputs": [],
   "source": []
  }
 ],
 "metadata": {
  "kernelspec": {
   "display_name": "Python 3",
   "language": "python",
   "name": "python3"
  },
  "language_info": {
   "codemirror_mode": {
    "name": "ipython",
    "version": 3
   },
   "file_extension": ".py",
   "mimetype": "text/x-python",
   "name": "python",
   "nbconvert_exporter": "python",
   "pygments_lexer": "ipython3",
   "version": "3.9.5"
  }
 },
 "nbformat": 4,
 "nbformat_minor": 5
}
