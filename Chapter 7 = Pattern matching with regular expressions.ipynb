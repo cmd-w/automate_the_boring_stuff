{
 "cells": [
  {
   "cell_type": "code",
   "execution_count": 7,
   "id": "79972d98",
   "metadata": {},
   "outputs": [
    {
     "name": "stdout",
     "output_type": "stream",
     "text": [
      "Is 415-555-4242 an American phonenumber?\n",
      "True\n",
      "Is moshi-moshi an American phonenumber?\n",
      "False\n"
     ]
    }
   ],
   "source": [
    "# Finding text patterns WITHOUT regular expressions\n",
    "# Find out if text is American phone number\n",
    "\n",
    "def isPhoneNumber(text):\n",
    "    if len(text) != 12:\n",
    "        return False \n",
    "    for i in range(0, 3):\n",
    "        if not text[i].isdecimal():\n",
    "            return False\n",
    "    if text[3] != '-':\n",
    "        return False\n",
    "    for i in range(4, 7): \n",
    "        if not text[i].isdecimal():\n",
    "            return False\n",
    "    if text[7] != '-':\n",
    "        return False\n",
    "    for i in range(8, 12):\n",
    "        if not text[i].isdecimal():\n",
    "            return False\n",
    "    return True\n",
    "\n",
    "print('Is 415-555-4242 an American phonenumber?')\n",
    "print(isPhoneNumber('415-555-4242'))\n",
    "\n",
    "print('Is moshi-moshi an American phonenumber?')\n",
    "print(isPhoneNumber('moshi-moshi'))"
   ]
  },
  {
   "cell_type": "code",
   "execution_count": 8,
   "id": "f2fdad8d",
   "metadata": {},
   "outputs": [
    {
     "name": "stdout",
     "output_type": "stream",
     "text": [
      "Phone number found: 415-555-4242\n",
      "Phone number found: 415-555-9999\n",
      "Done\n"
     ]
    }
   ],
   "source": [
    "def isPhoneNumber(text):\n",
    "    if len(text) != 12:\n",
    "        return False \n",
    "    for i in range(0, 3):\n",
    "        if not text[i].isdecimal():\n",
    "            return False\n",
    "    if text[3] != '-':\n",
    "        return False\n",
    "    for i in range(4, 7): \n",
    "        if not text[i].isdecimal():\n",
    "            return False\n",
    "    if text[7] != '-':\n",
    "        return False\n",
    "    for i in range(8, 12):\n",
    "        if not text[i].isdecimal():\n",
    "            return False\n",
    "    return True\n",
    "\n",
    "message = 'Call me at 415-555-4242 tomorrow. 415-555-9999 is my office.'\n",
    "for i in range(len(message)):\n",
    "    chunk = message[i:i+12] # Pakt telkens 12 chars en stored ze in chunk. elke iteration doet het de volgende 12.\n",
    "    if isPhoneNumber(chunk):\n",
    "        print('Phone number found: ' + chunk)\n",
    "print('Done')"
   ]
  },
  {
   "cell_type": "code",
   "execution_count": null,
   "id": "7a3eaf3e",
   "metadata": {},
   "outputs": [],
   "source": [
    "# finding patterns WITH regular expressions (regexes)"
   ]
  },
  {
   "cell_type": "code",
   "execution_count": 11,
   "id": "a8acbbf2",
   "metadata": {},
   "outputs": [],
   "source": [
    "# creating regrex objects and using them \n",
    "import re\n",
    "\n",
    "phoneNumRegex = re.compile(r'\\d\\d\\d-\\d\\d\\d-\\d\\d\\d\\d') # \\d = digit-character (0 - 9) "
   ]
  },
  {
   "cell_type": "code",
   "execution_count": 14,
   "id": "621b099f",
   "metadata": {
    "scrolled": true
   },
   "outputs": [
    {
     "name": "stdout",
     "output_type": "stream",
     "text": [
      "Phone number found: 415-555-9999\n"
     ]
    }
   ],
   "source": [
    "# Matching regex objects \n",
    "import re \n",
    "\n",
    "phoneNumRegex = re.compile(r'\\d\\d\\d-\\d\\d\\d-\\d\\d\\d\\d') # makes regex variable \n",
    "match = phoneNumRegex.search('My number is 415-555-9999.') # search() = searches str to see if it matches the regex\n",
    "print('Phone number found: ' + match.group()) #group() = returns matched data from search() function "
   ]
  },
  {
   "cell_type": "code",
   "execution_count": null,
   "id": "9ec10fdc",
   "metadata": {},
   "outputs": [],
   "source": []
  },
  {
   "cell_type": "markdown",
   "id": "c2eb6ee9",
   "metadata": {},
   "source": [
    "TEST VOOR MEZELF, KAN IK HETZELFDE MAKEN VOOR BELGISCHE NUMMERS?? "
   ]
  },
  {
   "cell_type": "code",
   "execution_count": 22,
   "id": "ed0195ce",
   "metadata": {},
   "outputs": [
    {
     "ename": "AttributeError",
     "evalue": "'NoneType' object has no attribute 'group'",
     "output_type": "error",
     "traceback": [
      "\u001b[0;31m---------------------------------------------------------------------------\u001b[0m",
      "\u001b[0;31mAttributeError\u001b[0m                            Traceback (most recent call last)",
      "\u001b[0;32m<ipython-input-22-ad1df841cdc1>\u001b[0m in \u001b[0;36m<module>\u001b[0;34m\u001b[0m\n\u001b[1;32m     34\u001b[0m 5\"\"\")\n\u001b[1;32m     35\u001b[0m \u001b[0;34m\u001b[0m\u001b[0m\n\u001b[0;32m---> 36\u001b[0;31m \u001b[0mprint\u001b[0m\u001b[0;34m(\u001b[0m\u001b[0;34m'Belgisch telefoon nummer gevonden: '\u001b[0m \u001b[0;34m+\u001b[0m \u001b[0mmatch\u001b[0m\u001b[0;34m.\u001b[0m\u001b[0mgroup\u001b[0m\u001b[0;34m(\u001b[0m\u001b[0;34m)\u001b[0m\u001b[0;34m)\u001b[0m\u001b[0;34m\u001b[0m\u001b[0;34m\u001b[0m\u001b[0m\n\u001b[0m",
      "\u001b[0;31mAttributeError\u001b[0m: 'NoneType' object has no attribute 'group'"
     ]
    }
   ],
   "source": [
    "import re \n",
    "BelgTelefoonNum = re.compile(r'\\d\\d \\d\\d \\d\\d \\d\\d \\d\\d')\n",
    "match = BelgTelefoonNum.search(\"\"\"Hooft Jan\n",
    "Adres\n",
    "Gordunakaai 14\n",
    "9000 GentHooft Jan\n",
    "Activiteiten:\n",
    "Tandartspraktijk\n",
    "092228051\n",
    "2\n",
    "Janine's\n",
    "Adres\n",
    "Vlaanderenstraat 82, b0001\n",
    "9000 GentJanine's\n",
    "Activiteiten:\n",
    "Catering Restaurant\n",
    "093114811\n",
    "3\n",
    "Meneer Janssen & Juffrouw Kaat\n",
    "Adres\n",
    "Gouvernementstraat 7\n",
    "9000 GentMeneer Janssen & Juffrouw Kaat\n",
    "Activiteiten:\n",
    "Detailhandel in baby- en kinderbovenkleding in gespecialiseerde winkels\n",
    "092690513\n",
    "4\n",
    "Jansen & Janssen\n",
    "Adres\n",
    "Muinklaan 6, b001\n",
    "9000 GentJansen & Janssen\n",
    "Activiteiten:\n",
    "Activiteiten in verband met films, video- en televisieprogramma's\n",
    "092676460\n",
    "5\"\"\")\n",
    "\n",
    "print('Belgisch telefoon nummer gevonden: ' + match.group())"
   ]
  },
  {
   "cell_type": "code",
   "execution_count": null,
   "id": "b85edf3e",
   "metadata": {},
   "outputs": [],
   "source": []
  }
 ],
 "metadata": {
  "kernelspec": {
   "display_name": "Python 3",
   "language": "python",
   "name": "python3"
  },
  "language_info": {
   "codemirror_mode": {
    "name": "ipython",
    "version": 3
   },
   "file_extension": ".py",
   "mimetype": "text/x-python",
   "name": "python",
   "nbconvert_exporter": "python",
   "pygments_lexer": "ipython3",
   "version": "3.9.5"
  }
 },
 "nbformat": 4,
 "nbformat_minor": 5
}
