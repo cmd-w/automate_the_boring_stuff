{
 "cells": [
  {
   "cell_type": "code",
   "execution_count": 7,
   "id": "79972d98",
   "metadata": {},
   "outputs": [
    {
     "name": "stdout",
     "output_type": "stream",
     "text": [
      "Is 415-555-4242 an American phonenumber?\n",
      "True\n",
      "Is moshi-moshi an American phonenumber?\n",
      "False\n"
     ]
    }
   ],
   "source": [
    "# Finding text patterns WITHOUT regular expressions\n",
    "# Find out if text is American phone number\n",
    "\n",
    "def isPhoneNumber(text):\n",
    "    if len(text) != 12:\n",
    "        return False \n",
    "    for i in range(0, 3):\n",
    "        if not text[i].isdecimal():\n",
    "            return False\n",
    "    if text[3] != '-':\n",
    "        return False\n",
    "    for i in range(4, 7): \n",
    "        if not text[i].isdecimal():\n",
    "            return False\n",
    "    if text[7] != '-':\n",
    "        return False\n",
    "    for i in range(8, 12):\n",
    "        if not text[i].isdecimal():\n",
    "            return False\n",
    "    return True\n",
    "\n",
    "print('Is 415-555-4242 an American phonenumber?')\n",
    "print(isPhoneNumber('415-555-4242'))\n",
    "\n",
    "print('Is moshi-moshi an American phonenumber?')\n",
    "print(isPhoneNumber('moshi-moshi'))"
   ]
  },
  {
   "cell_type": "code",
   "execution_count": 8,
   "id": "f2fdad8d",
   "metadata": {},
   "outputs": [
    {
     "name": "stdout",
     "output_type": "stream",
     "text": [
      "Phone number found: 415-555-4242\n",
      "Phone number found: 415-555-9999\n",
      "Done\n"
     ]
    }
   ],
   "source": [
    "def isPhoneNumber(text):\n",
    "    if len(text) != 12:\n",
    "        return False \n",
    "    for i in range(0, 3):\n",
    "        if not text[i].isdecimal():\n",
    "            return False\n",
    "    if text[3] != '-':\n",
    "        return False\n",
    "    for i in range(4, 7): \n",
    "        if not text[i].isdecimal():\n",
    "            return False\n",
    "    if text[7] != '-':\n",
    "        return False\n",
    "    for i in range(8, 12):\n",
    "        if not text[i].isdecimal():\n",
    "            return False\n",
    "    return True\n",
    "\n",
    "message = 'Call me at 415-555-4242 tomorrow. 415-555-9999 is my office.'\n",
    "for i in range(len(message)):\n",
    "    chunk = message[i:i+12] # Pakt telkens 12 chars en stored ze in chunk. elke iteration doet het de volgende 12.\n",
    "    if isPhoneNumber(chunk):\n",
    "        print('Phone number found: ' + chunk)\n",
    "print('Done')"
   ]
  },
  {
   "cell_type": "code",
   "execution_count": null,
   "id": "7a3eaf3e",
   "metadata": {},
   "outputs": [],
   "source": [
    "# finding patterns WITH regular expressions (regexes)"
   ]
  },
  {
   "cell_type": "code",
   "execution_count": 11,
   "id": "a8acbbf2",
   "metadata": {},
   "outputs": [],
   "source": [
    "# creating regrex objects and using them \n",
    "import re\n",
    "phoneNumRegex = re.compile(r'\\d\\d\\d-\\d\\d\\d-\\d\\d\\d\\d') # \\d = digit-character (0 - 9) "
   ]
  },
  {
   "cell_type": "code",
   "execution_count": 14,
   "id": "621b099f",
   "metadata": {
    "scrolled": true
   },
   "outputs": [
    {
     "name": "stdout",
     "output_type": "stream",
     "text": [
      "Phone number found: 415-555-9999\n"
     ]
    }
   ],
   "source": [
    "# Matching regex objects \n",
    "\n",
    "phoneNumRegex = re.compile(r'\\d\\d\\d-\\d\\d\\d-\\d\\d\\d\\d') # makes regex variable \n",
    "match = phoneNumRegex.search('My number is 415-555-9999.') # search() = searches str to see if it matches the regex\n",
    "print('Phone number found: ' + match.group()) #group() = returns matched data from search() function "
   ]
  },
  {
   "cell_type": "code",
   "execution_count": null,
   "id": "9ec10fdc",
   "metadata": {},
   "outputs": [],
   "source": []
  },
  {
   "cell_type": "markdown",
   "id": "c2eb6ee9",
   "metadata": {},
   "source": [
    "TEST VOOR MEZELF, KAN IK HETZELFDE MAKEN VOOR BELGISCHE NUMMERS?? "
   ]
  },
  {
   "cell_type": "code",
   "execution_count": 5,
   "id": "ed0195ce",
   "metadata": {},
   "outputs": [
    {
     "name": "stdout",
     "output_type": "stream",
     "text": [
      "Belgisch telefoon nummer gevonden: 04 85 22 54 26\n"
     ]
    }
   ],
   "source": [
    "BelgTelefoonNum = re.compile(r'\\d\\d \\d\\d \\d\\d \\d\\d \\d\\d')\n",
    "match = BelgTelefoonNum.search('hallo ik ben jan mijn nummer is 04 85 22 54 26')\n",
    "print('Belgisch telefoon nummer gevonden: ' + match.group())"
   ]
  },
  {
   "cell_type": "code",
   "execution_count": null,
   "id": "b85edf3e",
   "metadata": {},
   "outputs": [],
   "source": []
  },
  {
   "cell_type": "markdown",
   "id": "85d20559",
   "metadata": {},
   "source": [
    "----------------------------------------\n",
    "REVIEW OF REGULAR EXPRESSION MATCHING\n",
    "--------------------------------------\n",
    "    1. Import regex module --> import re\n",
    "    2. create regex object --? re.compile()\n",
    "    3. pass the data into search(), this returns a match object \n",
    "    4. call the match object's group() "
   ]
  },
  {
   "cell_type": "code",
   "execution_count": 22,
   "id": "53c617e7",
   "metadata": {},
   "outputs": [
    {
     "name": "stdout",
     "output_type": "stream",
     "text": [
      "415\n",
      "\n",
      "This is part two >> 555-9999\n",
      "This is the full num >> 415-555-9999\n"
     ]
    }
   ],
   "source": [
    "# Grouping with parantheses\n",
    "# filter area code from the rest (first 3 num = area code)\n",
    "\n",
    "phoneNumRegex = re.compile(r'(\\d\\d\\d)-(\\d\\d\\d-\\d\\d\\d\\d)')\n",
    "match = phoneNumRegex.search('My number is 415-555-9999')\n",
    "\n",
    "print(match.group(1))\n",
    "print(end='\\n')\n",
    "print('This is part two >> ' + match.group(2))\n",
    "print('This is the full num >> ' + match.group(0))"
   ]
  },
  {
   "cell_type": "code",
   "execution_count": 30,
   "id": "0bd7c807",
   "metadata": {},
   "outputs": [
    {
     "name": "stdout",
     "output_type": "stream",
     "text": [
      "415\n",
      "515-9999\n",
      "Full number >> ('415', '515-9999')\n"
     ]
    }
   ],
   "source": [
    "\n",
    "gsmNumRegex = re.compile(r'(\\d\\d\\d)-(\\d\\d\\d-\\d\\d\\d\\d)')\n",
    "match = gsmNumRegex.search('415-515-9999')\n",
    "areaCode, mainNumber = match.groups() #NOTE THE PLURAL FORM OF GROUP() FUNCTION\n",
    "\n",
    "print(areaCode)\n",
    "print(mainNumber) \n",
    "print('Full number >> ' + str(match.groups())) # Str moet door dat je geen tuples kan concatenaten"
   ]
  },
  {
   "cell_type": "code",
   "execution_count": 33,
   "id": "a1e17dff",
   "metadata": {},
   "outputs": [
    {
     "data": {
      "text/plain": [
       "'(415)'"
      ]
     },
     "execution_count": 33,
     "metadata": {},
     "output_type": "execute_result"
    }
   ],
   "source": [
    "# Wat als je parantheses moet gebruiken als regex??\n",
    "#ZIE PG 167 VOOR UITZONDERINGEN BIJ SPECIAL CHARS\n",
    "\n",
    "phoneNumRegex = re.compile(r'(\\(\\d\\d\\d\\)) (\\d\\d\\d-\\d\\d\\d\\d)')\n",
    "match = phoneNumRegex.search('My phone number is (415) 555-9999')\n",
    "match.group(1)"
   ]
  },
  {
   "cell_type": "code",
   "execution_count": 3,
   "id": "adf7ce6f",
   "metadata": {},
   "outputs": [
    {
     "name": "stdout",
     "output_type": "stream",
     "text": [
      "first output match = batman\n",
      "second output match = tina turner\n"
     ]
    }
   ],
   "source": [
    "# MATCHING MULTIPLE GROUPS WITH THE PIPE\n",
    "# the | char is a pipe , USE: match one or many arguments \n",
    "\n",
    "heroRegex = re.compile(r'batman|tina turner')\n",
    "mo1 = heroRegex.search('batman and tina turner')\n",
    "print('first output match = ' + mo1.group())\n",
    "\n",
    "mo2 = heroRegex.search('tina turner and batman')\n",
    "print('second output match = ' + mo2.group())"
   ]
  },
  {
   "cell_type": "code",
   "execution_count": 11,
   "id": "002576e2",
   "metadata": {},
   "outputs": [
    {
     "name": "stdout",
     "output_type": "stream",
     "text": [
      "- batmobile\n",
      "- batbitch\n"
     ]
    }
   ],
   "source": [
    "# Also useful to match multiple patterns\n",
    "# example = batmobile, batsuit, batbitch\n",
    "\n",
    "multiMatch = re.compile(r'bat(mobile|suit|bitch)')\n",
    "m1 = multiMatch.search('batmobile lost a wheel')\n",
    "m2 = multiMatch.search('tina is a batbitch')\n",
    "\n",
    "print('- ' + m1.group())\n",
    "print('- ' + m2.group())"
   ]
  },
  {
   "cell_type": "code",
   "execution_count": 14,
   "id": "c92e3b8c",
   "metadata": {},
   "outputs": [
    {
     "name": "stdout",
     "output_type": "stream",
     "text": [
      "Batman\n",
      "Batwoman\n"
     ]
    }
   ],
   "source": [
    "# Optional matching with the Question mark (?)\n",
    "# regex needs to find a match, regardless of whether that bit of text is there.\n",
    "\n",
    "batRegex = re.compile(r'Bat(wo)?man')\n",
    "m1 = batRegex.search('The adventures of Batman')\n",
    "print(m1.group())\n",
    "\n",
    "m2 = batRegex.search('The adventures of Batwoman')\n",
    "print(m2.group())\n",
    "\n",
    "# The (wo)? means that it is a optional part"
   ]
  },
  {
   "cell_type": "code",
   "execution_count": 16,
   "id": "fd71f068",
   "metadata": {},
   "outputs": [
    {
     "name": "stdout",
     "output_type": "stream",
     "text": [
      "415-424-9999\n",
      "420-9999\n"
     ]
    }
   ],
   "source": [
    "# EXERCISE = match phone numbers with optional area code\n",
    "\n",
    "\n",
    "phoneRegex = re.compile(r'(\\d\\d\\d-)?\\d\\d\\d-\\d\\d\\d\\d')\n",
    "m1 = phoneRegex.search('my number is: 415-424-9999')\n",
    "print(m1.group())\n",
    "\n",
    "m2 = phoneRegex.search('420-9999')\n",
    "print(m2.group())"
   ]
  },
  {
   "cell_type": "code",
   "execution_count": 18,
   "id": "801319c6",
   "metadata": {},
   "outputs": [
    {
     "data": {
      "text/plain": [
       "'?'"
      ]
     },
     "execution_count": 18,
     "metadata": {},
     "output_type": "execute_result"
    }
   ],
   "source": [
    "# Match ? by escaping it with \\? \n",
    " \n",
    "\n",
    "testReg = re.compile('\\?')\n",
    "m1 = testReg.search('Am I a cool dude?')\n",
    "m1.group()"
   ]
  },
  {
   "cell_type": "code",
   "execution_count": 1,
   "id": "39af99de",
   "metadata": {},
   "outputs": [
    {
     "name": "stdout",
     "output_type": "stream",
     "text": [
      "Batman\n",
      "Batwowowowowowoman\n"
     ]
    }
   ],
   "source": [
    "# Matching zero or more with the STAR\n",
    "# '*' = 'match zero or more' \n",
    "\n",
    "batRegex = re.compile(r'Bat(wo)*man')\n",
    "m1 = batRegex.search('The adventures of Batman')\n",
    "print(m1.group())\n",
    "\n",
    "m2 = batRegex.search('The adventures of Batwowowowowowoman')\n",
    "print(m2.group())\n"
   ]
  },
  {
   "cell_type": "code",
   "execution_count": 5,
   "id": "6938313c",
   "metadata": {},
   "outputs": [
    {
     "name": "stdout",
     "output_type": "stream",
     "text": [
      "Batwoman\n",
      "Batwowowowoman\n"
     ]
    },
    {
     "data": {
      "text/plain": [
       "True"
      ]
     },
     "execution_count": 5,
     "metadata": {},
     "output_type": "execute_result"
    }
   ],
   "source": [
    "# Matching One or More with the Plus \n",
    "\n",
    "batRegex = re.compile(r'Bat(wo)+man')\n",
    "m1 = batRegex.search('The adventures of Batwoman')\n",
    "print(m1.group())\n",
    "\n",
    "m2 = batRegex.search('The adventures of Batwowowowoman')\n",
    "print(m2.group())\n",
    "\n",
    "m3= batRegex.search('The adventures of Batman') # Wont match because (wo)+ requires at least one 'wo' \n",
    "m3 == None\n"
   ]
  },
  {
   "cell_type": "code",
   "execution_count": 20,
   "id": "f3ef7221",
   "metadata": {},
   "outputs": [
    {
     "data": {
      "text/plain": [
       "'HaHaHaHaHa'"
      ]
     },
     "execution_count": 20,
     "metadata": {},
     "output_type": "execute_result"
    }
   ],
   "source": [
    "#MATCH Specific repititions with braces \n",
    "\n",
    "haRegex = re.compile(r'(Ha){3,5}') # searches *3 and *5, outputs longest\n",
    "mo1 = haRegex.search('HaHaHaHaHa')\n",
    "mo1.group()"
   ]
  },
  {
   "cell_type": "code",
   "execution_count": 22,
   "id": "ff39a0c9",
   "metadata": {},
   "outputs": [
    {
     "data": {
      "text/plain": [
       "'hahahahaha'"
      ]
     },
     "execution_count": 22,
     "metadata": {},
     "output_type": "execute_result"
    }
   ],
   "source": [
    "# GREEDY AND NON GREEDY MATCHING\n",
    "# greedy = match longest string in case of multiple okays (default)\n",
    "# non greedy = matchh shortest (use {}?)\n",
    "\n",
    "greedyRegex = re.compile(r'(ha){3,5}')\n",
    "mo1 = greedyRegex.search('hahahahaha')\n",
    "mo1.group()\n"
   ]
  },
  {
   "cell_type": "code",
   "execution_count": 24,
   "id": "64cdc09f",
   "metadata": {},
   "outputs": [
    {
     "data": {
      "text/plain": [
       "'hahaha'"
      ]
     },
     "execution_count": 24,
     "metadata": {},
     "output_type": "execute_result"
    }
   ],
   "source": [
    "nongreedyRegex = re.compile(r'(ha){3,5}?')\n",
    "mo2 = nongreedyRegex.search('hahahaha')\n",
    "mo2.group()"
   ]
  },
  {
   "cell_type": "code",
   "execution_count": 31,
   "id": "233c63a2",
   "metadata": {},
   "outputs": [
    {
     "data": {
      "text/plain": [
       "['415-555-9999', '212-555-0000']"
      ]
     },
     "execution_count": 31,
     "metadata": {},
     "output_type": "execute_result"
    }
   ],
   "source": [
    "# Using findall() to find al occurences of string in regex\n",
    "\n",
    "phoneNumRegex = re.compile(r'\\d\\d\\d-\\d\\d\\d-\\d\\d\\d\\d') # has no groups as you can see.\n",
    "phoneNumRegex.findall('Cell: 415-555-9999 Work: 212-555-0000')\n",
    "\n"
   ]
  },
  {
   "cell_type": "code",
   "execution_count": 36,
   "id": "106d688a",
   "metadata": {},
   "outputs": [
    {
     "data": {
      "text/plain": [
       "[('415', '555', '9999'), ('212', '555', '0000')]"
      ]
     },
     "execution_count": 36,
     "metadata": {},
     "output_type": "execute_result"
    }
   ],
   "source": [
    "phoneNumRegex = re.compile(r'(\\d\\d\\d)-(\\d\\d\\d)-(\\d\\d\\d\\d)') # had groups, see ()\n",
    "phoneNumRegex.findall('Cell: 415-555-9999 Work: 212-555-0000')\n"
   ]
  },
  {
   "cell_type": "markdown",
   "id": "91da63e8",
   "metadata": {},
   "source": [
    "CHARACTER CLASSES\n",
    "\n",
    "\\d = num digit 0 - 9 \n",
    "\\D = NOT num digit 0 - 9 \n",
    "\n",
    "\\w = any letter, num digit or the underscore (matching word characters)\n",
    "\\W = any char thats NOT a num, letter or underscore\n",
    "\n",
    "\\s = any space, tab or newline char (matching space)\n",
    "\\S = any char thats NOT a space, tab or newline\n"
   ]
  },
  {
   "cell_type": "markdown",
   "id": "3f02e566",
   "metadata": {},
   "source": []
  },
  {
   "cell_type": "code",
   "execution_count": 14,
   "id": "f3f8ff8c",
   "metadata": {},
   "outputs": [
    {
     "data": {
      "text/plain": [
       "['12 drummers', '11 pipers', '10 lords', '9 ladies', '8 maids', '1 johnny dog']"
      ]
     },
     "execution_count": 14,
     "metadata": {},
     "output_type": "execute_result"
    }
   ],
   "source": [
    "import re\n",
    "xmasRegex = re.compile(r'\\d+\\s\\w+\\s?\\w+\\w+?') # \\d = 1 or more nums, \\s = whitespace, \\w+ one or more letters\n",
    "xmasRegex.findall('12 drummers, 11 pipers, 10 lords, 9 ladies, 8 maids, 1 johnny dog')"
   ]
  },
  {
   "cell_type": "code",
   "execution_count": 16,
   "id": "20e80be3",
   "metadata": {},
   "outputs": [
    {
     "data": {
      "text/plain": [
       "['o', 'o', 'o', 'e', 'a', 'a', 'o', 'o', 'A', 'O', 'O']"
      ]
     },
     "execution_count": 16,
     "metadata": {},
     "output_type": "execute_result"
    }
   ],
   "source": [
    "# MAKE YOUR OWN CHAR CLASSES!!!\n",
    "\n",
    "# use [], try to match any vowel \n",
    "\n",
    "vowelRegex = re.compile(r'[aeiouAEIOU]')\n",
    "vowelRegex.findall('RoboCop eats baby food. BABY FOOD.')"
   ]
  },
  {
   "cell_type": "code",
   "execution_count": 17,
   "id": "49afaace",
   "metadata": {
    "scrolled": true
   },
   "outputs": [
    {
     "data": {
      "text/plain": [
       "['R',\n",
       " 'b',\n",
       " 'C',\n",
       " 'p',\n",
       " ' ',\n",
       " 't',\n",
       " 's',\n",
       " ' ',\n",
       " 'b',\n",
       " 'b',\n",
       " 'y',\n",
       " ' ',\n",
       " 'f',\n",
       " 'd',\n",
       " '.',\n",
       " ' ',\n",
       " 'B',\n",
       " 'B',\n",
       " 'Y',\n",
       " ' ',\n",
       " 'F',\n",
       " 'D',\n",
       " '.']"
      ]
     },
     "execution_count": 17,
     "metadata": {},
     "output_type": "execute_result"
    }
   ],
   "source": [
    "# Matching the OPPOSITE OF THE CLASS\n",
    "consonantRegex = re.compile(r'[^aeiouAEIOU]')\n",
    "consonantRegex.findall('RoboCop eats baby food. BABY FOOD.')"
   ]
  },
  {
   "cell_type": "code",
   "execution_count": 18,
   "id": "159b9bdb",
   "metadata": {
    "scrolled": true
   },
   "outputs": [
    {
     "data": {
      "text/plain": [
       "['T',\n",
       " 'h',\n",
       " 'i',\n",
       " 's',\n",
       " 'w',\n",
       " 'i',\n",
       " 'l',\n",
       " 'l',\n",
       " 'l',\n",
       " 'i',\n",
       " 't',\n",
       " 't',\n",
       " 'e',\n",
       " 'r',\n",
       " 'a',\n",
       " 'l',\n",
       " 'y',\n",
       " 'm',\n",
       " 'a',\n",
       " 't',\n",
       " 'c',\n",
       " 'h',\n",
       " 'e',\n",
       " 'v',\n",
       " 'e',\n",
       " 'r',\n",
       " 'y',\n",
       " 't',\n",
       " 'h',\n",
       " 'i',\n",
       " 'n',\n",
       " 'g',\n",
       " 'b',\n",
       " 'e',\n",
       " 'c',\n",
       " 'a',\n",
       " 'u',\n",
       " 's',\n",
       " 'e',\n",
       " 'o',\n",
       " 'f',\n",
       " 't',\n",
       " 'h',\n",
       " 'e',\n",
       " 'c',\n",
       " 'o',\n",
       " 'm',\n",
       " 'p',\n",
       " 'i',\n",
       " 'l',\n",
       " 'e']"
      ]
     },
     "execution_count": 18,
     "metadata": {},
     "output_type": "execute_result"
    }
   ],
   "source": [
    "matchAllRegex = re.compile(r'[a-zA-Z0-9]')\n",
    "matchAllRegex.findall('This will litteraly match everything because of the compile')"
   ]
  },
  {
   "cell_type": "code",
   "execution_count": 19,
   "id": "ec02756c",
   "metadata": {},
   "outputs": [
    {
     "data": {
      "text/plain": [
       "['cat', 'hat', 'sat', 'lat', 'mat']"
      ]
     },
     "execution_count": 19,
     "metadata": {},
     "output_type": "execute_result"
    }
   ],
   "source": [
    "# WILDCARD CHAR\n",
    "atRegex = re.compile(r'.at')\n",
    "atRegex.findall('the cat in the hat sat on the flat mat')"
   ]
  },
  {
   "cell_type": "code",
   "execution_count": 20,
   "id": "576355a0",
   "metadata": {},
   "outputs": [
    {
     "data": {
      "text/plain": [
       "['f', 'i', 'n', 'd', ' ', 'm', 'e']"
      ]
     },
     "execution_count": 20,
     "metadata": {},
     "output_type": "execute_result"
    }
   ],
   "source": [
    "matchAllRegex = re.compile(r'.')\n",
    "matchAllRegex.findall('find me')"
   ]
  },
  {
   "cell_type": "code",
   "execution_count": 25,
   "id": "abef24a6",
   "metadata": {},
   "outputs": [
    {
     "name": "stdout",
     "output_type": "stream",
     "text": [
      " Artuur\n",
      " Maertens\n"
     ]
    }
   ],
   "source": [
    "# The Dot Star methode \n",
    "nameRegex = re.compile(r'Firstname:(.*) Lastname:(.*)')\n",
    "m1 = nameRegex.search('Firstname: Artuur Lastname: Maertens')\n",
    "print(m1.group(1))\n",
    "print(m1.group(2))"
   ]
  },
  {
   "cell_type": "markdown",
   "id": "e8912fe9",
   "metadata": {},
   "source": [
    "----------\n",
    "IMPORTANT SUMMARY\n",
    "----------\n",
    "\n",
    "The ? matches zero or one of the preceding group.\n",
    "\n",
    "The * matches zero or more of the preceding group.\n",
    "\n",
    "The + matches one or more of the preceding group.\n",
    "\n",
    "The {n} matches exactly n of the preceding group.\n",
    "\n",
    "The {n,} matches n or more of the preceding group.\n",
    "\n",
    "The {,m} matches 0 to m of the preceding group.\n",
    "\n",
    "The {n,m} matches at least n and at most m of the preceding group.\n",
    "\n",
    "{n,m}? or *? or +? performs a non-greedy match of the preceding group.\n",
    "\n",
    "^spam means the string must begin with spam.\n",
    "\n",
    "spam$ means the string must end with spam.\n",
    "\n",
    "The . matches any character, except newline characters.\n",
    "\n",
    "\\d, \\w, and \\s match a digit, word, or space character, respectively.\n",
    "\n",
    "\\D, \\W, and \\S match anything except a digit, word, or space character, respectively.\n",
    "\n",
    "[abc] matches any character between the brackets (such as a, b, or c).\n",
    "\n",
    "[^abc] matches any character that isn’t between the brackets.\n"
   ]
  },
  {
   "cell_type": "markdown",
   "id": "d053b658",
   "metadata": {},
   "source": []
  },
  {
   "cell_type": "code",
   "execution_count": 29,
   "id": "7541794b",
   "metadata": {},
   "outputs": [
    {
     "data": {
      "text/plain": [
       "'CENSORED gave the secret documents to CENSORED.'"
      ]
     },
     "execution_count": 29,
     "metadata": {},
     "output_type": "execute_result"
    }
   ],
   "source": [
    "# SUBSTITUTING strings with the sub() methode\n",
    "\n",
    "namesRegex = re.compile(r'Agent \\w+')\n",
    "namesRegex.sub('CENSORED', 'Agent Alice gave the secret documents to Agent Bob.')"
   ]
  },
  {
   "cell_type": "code",
   "execution_count": 33,
   "id": "5c32aef4",
   "metadata": {},
   "outputs": [
    {
     "data": {
      "text/plain": [
       "[('209-200-9472', '209', '-', '-', '', ''),\n",
       " ('209-201-2253', '209', '-', '-', '', ''),\n",
       " ('209-202-3911', '209', '-', '-', '', ''),\n",
       " ('209-204-9363', '209', '-', '-', '', '')]"
      ]
     },
     "execution_count": 33,
     "metadata": {},
     "output_type": "execute_result"
    }
   ],
   "source": [
    "# Matching complex regexes\n",
    "# use verbose mode (re.VERBOSE)\n",
    "phoneRegex = re.compile(r'''(\n",
    "    (\\d{3}|\\(\\d{3}\\))?            # area code\n",
    "    (\\s|-|\\.)?                    # separator\n",
    "    \\d{3}                         # first 3 digits\n",
    "    (\\s|-|\\.)                     # separator\n",
    "    \\d{4}                         # last 4 digits\n",
    "    (\\s*(ext|x|ext.)\\s*\\d{2,5})?  # extension\n",
    "    )''', re.VERBOSE)\n",
    "phoneRegex.findall('''209-200-9472\n",
    "\n",
    "Cell Number, from Lodi, CA(state),USA\n",
    "\n",
    "209-201-2253\n",
    "\n",
    "Cell Number, from Merced, CA(state),USA\n",
    "\n",
    "209-202-3911\n",
    "\n",
    "Landline, from Turlock, CA(state),USA\n",
    "\n",
    "209-204-9363\n",
    "\n",
    "''')"
   ]
  },
  {
   "cell_type": "code",
   "execution_count": null,
   "id": "2dc38b8c",
   "metadata": {},
   "outputs": [],
   "source": []
  }
 ],
 "metadata": {
  "kernelspec": {
   "display_name": "Python 3",
   "language": "python",
   "name": "python3"
  },
  "language_info": {
   "codemirror_mode": {
    "name": "ipython",
    "version": 3
   },
   "file_extension": ".py",
   "mimetype": "text/x-python",
   "name": "python",
   "nbconvert_exporter": "python",
   "pygments_lexer": "ipython3",
   "version": "3.9.5"
  }
 },
 "nbformat": 4,
 "nbformat_minor": 5
}
