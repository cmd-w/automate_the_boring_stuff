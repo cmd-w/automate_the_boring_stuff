{
 "cells": [
  {
   "cell_type": "code",
   "execution_count": 3,
   "id": "c9aca00b",
   "metadata": {},
   "outputs": [
    {
     "data": {
      "text/plain": [
       "62"
      ]
     },
     "execution_count": 3,
     "metadata": {},
     "output_type": "execute_result"
    }
   ],
   "source": [
    "spam = 40 \n",
    "eggs = 2 \n",
    "\n",
    "spam = 60 \n",
    "\n",
    "spam + eggs\n"
   ]
  },
  {
   "cell_type": "code",
   "execution_count": 5,
   "id": "6c7fb0db",
   "metadata": {},
   "outputs": [
    {
     "name": "stdout",
     "output_type": "stream",
     "text": [
      "Hello World!\n",
      "what is your name?\n",
      "Aline\n",
      "It's good to meet you Aline\n",
      "the lenght of your name is \n",
      "5\n",
      "What is your age?\n",
      "21\n",
      "You will be 22 in a year.\n"
     ]
    }
   ],
   "source": [
    "print(\"Hello World!\")\n",
    "print(\"what is your name?\") #ask name\n",
    "MyName = input()\n",
    "\n",
    "print(\"It's good to meet you \" + MyName)\n",
    "print(\"the lenght of your name is \")\n",
    "print(len(MyName))\n",
    "\n",
    "print(\"What is your age?\")\n",
    "myAge = input()\n",
    "print(\"You will be \" + str(int(myAge) + 1) + \" in a year.\")\n"
   ]
  },
  {
   "cell_type": "code",
   "execution_count": 10,
   "id": "a9808d41",
   "metadata": {},
   "outputs": [
    {
     "name": "stdout",
     "output_type": "stream",
     "text": [
      "101\n"
     ]
    },
    {
     "data": {
      "text/plain": [
       "'101'"
      ]
     },
     "execution_count": 10,
     "metadata": {},
     "output_type": "execute_result"
    }
   ],
   "source": [
    "spam = input()\n",
    "spam #int(spam) zal je het nummer geven, niet de str."
   ]
  },
  {
   "cell_type": "code",
   "execution_count": null,
   "id": "51ff3539",
   "metadata": {},
   "outputs": [],
   "source": []
  }
 ],
 "metadata": {
  "kernelspec": {
   "display_name": "Python 3",
   "language": "python",
   "name": "python3"
  },
  "language_info": {
   "codemirror_mode": {
    "name": "ipython",
    "version": 3
   },
   "file_extension": ".py",
   "mimetype": "text/x-python",
   "name": "python",
   "nbconvert_exporter": "python",
   "pygments_lexer": "ipython3",
   "version": "3.9.2"
  }
 },
 "nbformat": 4,
 "nbformat_minor": 5
}
