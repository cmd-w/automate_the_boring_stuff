{
 "cells": [
  {
   "cell_type": "code",
   "execution_count": null,
   "id": "2507b39f",
   "metadata": {},
   "outputs": [],
   "source": [
    "# comma code \n",
    "list = ['apples', 'bananas', 'tofu', 'cats']\n",
    "def commaConvert(list):\n",
    "    if len(list) == 1:\n",
    "        return list[0]\n",
    "    return '{}, and {}'.format(', '.join(list[:-1]), list[-1])\n",
    "commaConvert(list)"
   ]
  },
  {
   "cell_type": "code",
   "execution_count": null,
   "id": "d1db7689",
   "metadata": {},
   "outputs": [],
   "source": []
  },
  {
   "cell_type": "code",
   "execution_count": 1,
   "id": "8a72d110",
   "metadata": {},
   "outputs": [
    {
     "name": "stdout",
     "output_type": "stream",
     "text": [
      "Chance of streak: 79.06%\n"
     ]
    }
   ],
   "source": [
    "# Coin flip streaks\n",
    "'''Do 100 coin flips, 10 000 times. Record any streaks of 6 \n",
    "as seperate streak, in the 10 000 rolls, print as percentage.'''\n",
    "\n",
    "import random\n",
    "numberOfStreaks = 0\n",
    "coinFlip = []\n",
    "streak = 0\n",
    "\n",
    "for testnumber in range(10000):\n",
    "    #code that creates a list of 100 'heads' or 'tails'\n",
    "    for i in range(101):\n",
    "        coinFlip.append(random.randint(0, 1))\n",
    "    \n",
    "    # code that checks if there is a streak of 6 'heads' or 'tails'\n",
    "for i in range(len(coinFlip)):\n",
    "    if i==0:\n",
    "        pass\n",
    "    elif coinFlip[i] == coinFlip[i - 1]:\n",
    "        streak += 1\n",
    "    else:\n",
    "        streak = 0\n",
    "\n",
    "    if streak == 6:\n",
    "        numberOfStreaks += 1\n",
    "    \n",
    "\n",
    "print('Chance of streak: %s%%' % (numberOfStreaks / 100))"
   ]
  },
  {
   "cell_type": "code",
   "execution_count": null,
   "id": "e4989a6b",
   "metadata": {},
   "outputs": [],
   "source": [
    "#code that creates a list of 100 'heads' or 'tails'\n",
    "\n",
    "import random \n",
    "coinFlip = []\n",
    "\n",
    "for i in range(11):\n",
    "    coinFlip.append(random.randint(0, 1))\n",
    "print(coinFlip)"
   ]
  },
  {
   "cell_type": "code",
   "execution_count": null,
   "id": "53ef59bf",
   "metadata": {},
   "outputs": [],
   "source": [
    "\n",
    "import random \n",
    "coinFlip = []\n",
    "numberOfStreaks = 0 \n",
    "streak = 0\n",
    "\n",
    "for i in range(11):\n",
    "    coinFlip.append(random.randint(0, 1))\n",
    "print(coinFlip)\n",
    "\n",
    "# code that checks if there is a streak of 6 'heads' or 'tails'\n",
    "if coinFlip[i] == coinFlip[-1]:\n",
    "    streak += 1\n",
    "else:\n",
    "    streak = 0\n",
    "\n",
    "if streak == 6:\n",
    "    numberOfStreaks += 1\n",
    "print(numberOfStreaks)"
   ]
  },
  {
   "cell_type": "code",
   "execution_count": null,
   "id": "5674766e",
   "metadata": {},
   "outputs": [],
   "source": []
  }
 ],
 "metadata": {
  "kernelspec": {
   "display_name": "Python 3",
   "language": "python",
   "name": "python3"
  },
  "language_info": {
   "codemirror_mode": {
    "name": "ipython",
    "version": 3
   },
   "file_extension": ".py",
   "mimetype": "text/x-python",
   "name": "python",
   "nbconvert_exporter": "python",
   "pygments_lexer": "ipython3",
   "version": "3.9.5"
  }
 },
 "nbformat": 4,
 "nbformat_minor": 5
}
