{
 "cells": [
  {
   "cell_type": "code",
   "execution_count": null,
   "id": "f29d2bb0",
   "metadata": {},
   "outputs": [],
   "source": [
    "# Collatz Sequence solver\n",
    "def collatz(num):\n",
    "    if num % 2 == 0: # als num gedeeld door 2 == 0 is het even\n",
    "        print(num // 2)\n",
    "        return num // 2\n",
    "    elif num % 2 != 0:\n",
    "        print(3 * num + 1)\n",
    "        return 3 * num + 1\n",
    "\n",
    "num = input('Give me a number')\n",
    "while num != 1: \n",
    "    num = collatz(int(num))"
   ]
  },
  {
   "cell_type": "code",
   "execution_count": null,
   "id": "8839d79a",
   "metadata": {},
   "outputs": [],
   "source": []
  }
 ],
 "metadata": {
  "kernelspec": {
   "display_name": "Python 3",
   "language": "python",
   "name": "python3"
  },
  "language_info": {
   "codemirror_mode": {
    "name": "ipython",
    "version": 3
   },
   "file_extension": ".py",
   "mimetype": "text/x-python",
   "name": "python",
   "nbconvert_exporter": "python",
   "pygments_lexer": "ipython3",
   "version": "3.9.5"
  }
 },
 "nbformat": 4,
 "nbformat_minor": 5
}
