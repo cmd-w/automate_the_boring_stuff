{
 "cells": [
  {
   "cell_type": "code",
   "execution_count": null,
   "id": "96743057",
   "metadata": {},
   "outputs": [],
   "source": [
    "#Working with strings\n",
    "\n",
    "spam = 'this is alice\\'s cat' \n",
    "# or \n",
    "spam = \"this is alice's cat\"\n",
    "# but not spam = 'this is alice's cat' "
   ]
  },
  {
   "cell_type": "code",
   "execution_count": null,
   "id": "8c9045ac",
   "metadata": {},
   "outputs": [],
   "source": [
    " this \\' is a escape character \n",
    "\n",
    "\\' = single quote\n",
    "\\\" = double quote \n",
    "\\t = tab \n",
    "\\n = newline \n",
    "\\\\ = backslash"
   ]
  },
  {
   "cell_type": "code",
   "execution_count": 1,
   "id": "9f05c308",
   "metadata": {},
   "outputs": [
    {
     "name": "stdout",
     "output_type": "stream",
     "text": [
      "Hello there! \n",
      "How are you?\n",
      "I'm doing fine.\n"
     ]
    }
   ],
   "source": [
    "print(\"Hello there! \\nHow are you?\\nI\\'m doing fine.\")"
   ]
  },
  {
   "cell_type": "code",
   "execution_count": 2,
   "id": "71bf21fa",
   "metadata": {},
   "outputs": [
    {
     "name": "stdout",
     "output_type": "stream",
     "text": [
      "That is Carol\\'s cat\n"
     ]
    }
   ],
   "source": [
    "# Raw strings\n",
    "# Use: file paths or regular expressions, chapter 7\n",
    "print(r'That is Carol\\'s cat')"
   ]
  },
  {
   "cell_type": "code",
   "execution_count": 5,
   "id": "aee08809",
   "metadata": {},
   "outputs": [
    {
     "name": "stdout",
     "output_type": "stream",
     "text": [
      "Dear Alice, \n",
      "\n",
      "Eve's cat has been arrested for catnapping, cat burglary and extortion.\n",
      "\n",
      "Sincerly, \n",
      "Artuur\n"
     ]
    }
   ],
   "source": [
    "# Multiline strings with triple quotes. \n",
    "print(\"\"\"Dear Alice, \n",
    "\\nEve's cat has been arrested for catnapping, cat burglary and extortion.\n",
    "\n",
    "Sincerly, \n",
    "Artuur\"\"\")"
   ]
  },
  {
   "cell_type": "code",
   "execution_count": 8,
   "id": "bb55e1db",
   "metadata": {},
   "outputs": [
    {
     "name": "stdout",
     "output_type": "stream",
     "text": [
      "hello\n"
     ]
    }
   ],
   "source": [
    "# Multiline commments\n",
    "\n",
    "''' This is a test python program.\n",
    "\n",
    "It was designed for python3 not python2'''\n",
    "\n",
    "def spam():\n",
    "    \"\"\" This is a multiline comment to explain what the spam() function does.\"\"\"\n",
    "    print('hello')\n",
    "    \n",
    "spam()"
   ]
  },
  {
   "cell_type": "code",
   "execution_count": 9,
   "id": "b81042d2",
   "metadata": {},
   "outputs": [
    {
     "data": {
      "text/plain": [
       "'Hello'"
      ]
     },
     "execution_count": 9,
     "metadata": {},
     "output_type": "execute_result"
    }
   ],
   "source": [
    "#Indexing and slicing strings\n",
    "spam = 'Hello, world!'\n",
    "fizz = spam[0:5]\n",
    "fizz"
   ]
  },
  {
   "cell_type": "code",
   "execution_count": 12,
   "id": "e41f0e1a",
   "metadata": {},
   "outputs": [
    {
     "name": "stdout",
     "output_type": "stream",
     "text": [
      "True\n",
      "False\n",
      "True\n"
     ]
    }
   ],
   "source": [
    "# The in and not in operators with strings\n",
    "print('Hello' in 'Hello, world!')\n",
    "print('HELLO' in 'Hello, world!')\n",
    "print('' in 'spam')"
   ]
  },
  {
   "cell_type": "code",
   "execution_count": 14,
   "id": "a3ae69dd",
   "metadata": {},
   "outputs": [
    {
     "data": {
      "text/plain": [
       "'Hello, my name is Al. I am 4000 years old.'"
      ]
     },
     "execution_count": 14,
     "metadata": {},
     "output_type": "execute_result"
    }
   ],
   "source": [
    "# Putting strings in other strings\n",
    "name = 'Al'\n",
    "age = 4000 \n",
    "'Hello, my name is ' + name + '. I am ' + str(age) + ' years old.'\n"
   ]
  },
  {
   "cell_type": "code",
   "execution_count": 15,
   "id": "b6415f06",
   "metadata": {},
   "outputs": [
    {
     "data": {
      "text/plain": [
       "'My name is Al. I am 4000 years old.'"
      ]
     },
     "execution_count": 15,
     "metadata": {},
     "output_type": "execute_result"
    }
   ],
   "source": [
    "# Same as previous but way easier to type:\n",
    "name = 'Al'\n",
    "age = 4000\n",
    "'My name is %s. I am %s years old.' % (name, age)"
   ]
  },
  {
   "cell_type": "code",
   "execution_count": 17,
   "id": "95785dd7",
   "metadata": {},
   "outputs": [
    {
     "data": {
      "text/plain": [
       "'My name is Al. Next year I will be 4001 years old.'"
      ]
     },
     "execution_count": 17,
     "metadata": {},
     "output_type": "execute_result"
    }
   ],
   "source": [
    "# Using f-strings\n",
    "name = 'Al'\n",
    "age = 4000 \n",
    "f'My name is {name}. Next year I will be {age + 1} years old.'"
   ]
  },
  {
   "cell_type": "code",
   "execution_count": 25,
   "id": "dd0a0a3d",
   "metadata": {},
   "outputs": [
    {
     "name": "stdout",
     "output_type": "stream",
     "text": [
      "HELLO, WORLD!\n",
      "False\n",
      "hello, world!\n",
      "False\n"
     ]
    }
   ],
   "source": [
    "# The upper(), lower(), isupper() and islower() methods\n",
    "#THESE DO NOT CHANGE THE ORIGINAL STRING\n",
    "spam = 'Hello, world!'\n",
    "\n",
    "print(spam.upper())\n",
    "print(spam.isupper())\n",
    "print(spam.lower())\n",
    "print(spam.islower())"
   ]
  },
  {
   "cell_type": "code",
   "execution_count": 26,
   "id": "0b561ace",
   "metadata": {},
   "outputs": [
    {
     "name": "stdout",
     "output_type": "stream",
     "text": [
      "How are you?\n",
      "GREAT\n",
      "I'm feeling the same way dude!\n"
     ]
    }
   ],
   "source": [
    "print('How are you?')\n",
    "feeling = input()\n",
    "if feeling.lower() == 'great':\n",
    "    print('I\\'m feeling the same way dude!')\n",
    "else:\n",
    "    print('I hope the rest of your day is splendid.')"
   ]
  },
  {
   "cell_type": "code",
   "execution_count": 29,
   "id": "a7e8dc7c",
   "metadata": {},
   "outputs": [
    {
     "name": "stdout",
     "output_type": "stream",
     "text": [
      "True\n",
      "True\n",
      "True\n",
      "True\n",
      "True\n",
      "True\n",
      "False\n",
      "False\n"
     ]
    }
   ],
   "source": [
    "# The isX() method\n",
    "'''\n",
    "isalpha() = returns True if string is only letters and not blank\n",
    "isalnum() = returns True is string is only letters and numbers and not blank\n",
    "isdecimal() = returns True if string is only numeric values and not blank \n",
    "isspace() = returns True if string only consists of spaces, tabs and newlines and is not blank\n",
    "istitle() = returns True if string only consists of words that start Uppercase, followed by only lowercase\n",
    "'''\n",
    "\n",
    "print('hello'.isalpha())\n",
    "print('hello123'.isalnum())\n",
    "print('123'.isdecimal())\n",
    "print(' \\n '.isspace())\n",
    "print('This Is Title Case'.istitle())\n",
    "print('This Is Also Title Case 123'.istitle())\n",
    "print('This Is not Title Case'.istitle())\n",
    "print('This Is NOT Title Case either'.istitle())\n",
    "\n",
    "\n",
    "\n",
    "\n"
   ]
  },
  {
   "cell_type": "code",
   "execution_count": 2,
   "id": "82778346",
   "metadata": {},
   "outputs": [
    {
     "name": "stdout",
     "output_type": "stream",
     "text": [
      "Enter your age: \n",
      "artuur\n",
      "Please enter a number for your age.\n",
      "Enter your age: \n",
      "12\n",
      "Select a new password (Letters & Numbers only!)\n",
      "\\n\n",
      "Password can only be letters and numbers\n",
      "Select a new password (Letters & Numbers only!)\n",
      "q1\n"
     ]
    }
   ],
   "source": [
    "# validate user input with the isX() method\n",
    "\n",
    "while True:\n",
    "    print('Enter your age: ')\n",
    "    age = input()\n",
    "    if age.isdecimal():\n",
    "        break\n",
    "    else: \n",
    "        print('Please enter a number for your age.')\n",
    "while True:\n",
    "    print('Select a new password (Letters & Numbers only!)')\n",
    "    password = input()\n",
    "    if password.isalnum():\n",
    "        break \n",
    "    else: \n",
    "        print('Password can only be letters and numbers')"
   ]
  },
  {
   "cell_type": "code",
   "execution_count": 5,
   "id": "9fb364dc",
   "metadata": {},
   "outputs": [
    {
     "name": "stdout",
     "output_type": "stream",
     "text": [
      "True\n",
      "True\n",
      "False\n"
     ]
    }
   ],
   "source": [
    "# the startswith() or endswith() methods\n",
    "print('Hello, World!'.startswith('Hello'))\n",
    "print('Hello, World!'.endswith('World!'))\n",
    "print('abcd1234'.endswith('3'))"
   ]
  },
  {
   "cell_type": "code",
   "execution_count": 11,
   "id": "8572e7d3",
   "metadata": {},
   "outputs": [
    {
     "name": "stdout",
     "output_type": "stream",
     "text": [
      "cats, dogs, turtles\n",
      "my name is Artuur\n",
      "myABCnameABCisABCArtuur\n"
     ]
    }
   ],
   "source": [
    "# The join() option\n",
    "print(', '.join(['cats', 'dogs', 'turtles']))\n",
    "print(' '.join(['my', 'name', 'is', 'Artuur']))\n",
    "print('ABC'.join(['my', 'name', 'is', 'Artuur']))"
   ]
  },
  {
   "cell_type": "code",
   "execution_count": 4,
   "id": "41c337e9",
   "metadata": {},
   "outputs": [
    {
     "name": "stdout",
     "output_type": "stream",
     "text": [
      "['My', 'name', 'is', 'Artuur']\n",
      "['My na', 'e is Artuur']\n"
     ]
    }
   ],
   "source": [
    "#The split() option\n",
    "print('My name is Artuur'.split())\n",
    "print('My name is Artuur'.split('m'))"
   ]
  },
  {
   "cell_type": "code",
   "execution_count": 5,
   "id": "90912a55",
   "metadata": {},
   "outputs": [
    {
     "name": "stdout",
     "output_type": "stream",
     "text": [
      "['my', 'name', 'is', 'Artuur']\n"
     ]
    }
   ],
   "source": [
    "print('myABCnameABCisABCArtuur'.split('ABC'))"
   ]
  },
  {
   "cell_type": "code",
   "execution_count": 6,
   "id": "6a6c7284",
   "metadata": {},
   "outputs": [
    {
     "data": {
      "text/plain": [
       "[' Dear Alice, ',\n",
       " \"How have you been? I've been fine.\",\n",
       " 'There is a container in the fridge',\n",
       " \"It's labeled 'Milk Experiment'\",\n",
       " '',\n",
       " 'Please do NOT drink it.',\n",
       " 'Sincerly,',\n",
       " 'Artuur']"
      ]
     },
     "execution_count": 6,
     "metadata": {},
     "output_type": "execute_result"
    }
   ],
   "source": [
    "#Common use of .split() is to split multiline strings along the newline character\n",
    "spam = \"\"\" Dear Alice, \n",
    "How have you been? I've been fine.\n",
    "There is a container in the fridge\n",
    "It's labeled 'Milk Experiment'\n",
    "\n",
    "Please do NOT drink it.\n",
    "Sincerly,\n",
    "Artuur\"\"\"\n",
    "spam.split('\\n')"
   ]
  },
  {
   "cell_type": "code",
   "execution_count": null,
   "id": "39b25134",
   "metadata": {},
   "outputs": [],
   "source": [
    "for i in range(11):\n",
    "    print(i)"
   ]
  },
  {
   "cell_type": "code",
   "execution_count": null,
   "id": "9e54824a",
   "metadata": {},
   "outputs": [],
   "source": [
    "print('hello world')"
   ]
  }
 ],
 "metadata": {
  "kernelspec": {
   "display_name": "Python 3",
   "language": "python",
   "name": "python3"
  },
  "language_info": {
   "codemirror_mode": {
    "name": "ipython",
    "version": 3
   },
   "file_extension": ".py",
   "mimetype": "text/x-python",
   "name": "python",
   "nbconvert_exporter": "python",
   "pygments_lexer": "ipython3",
   "version": "3.9.5"
  }
 },
 "nbformat": 4,
 "nbformat_minor": 5
}
