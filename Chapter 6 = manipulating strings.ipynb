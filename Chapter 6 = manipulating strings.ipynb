{
 "cells": [
  {
   "cell_type": "code",
   "execution_count": null,
   "id": "96743057",
   "metadata": {},
   "outputs": [],
   "source": [
    "#Working with strings\n",
    "\n",
    "spam = 'this is alice\\'s cat' \n",
    "# or \n",
    "spam = \"this is alice's cat\"\n",
    "# but not spam = 'this is alice's cat' "
   ]
  },
  {
   "cell_type": "code",
   "execution_count": null,
   "id": "8c9045ac",
   "metadata": {},
   "outputs": [],
   "source": [
    " this \\' is a escape character \n",
    "\n",
    "\\' = single quote\n",
    "\\\" = double quote \n",
    "\\t = tab \n",
    "\\n = newline \n",
    "\\\\ = backslash"
   ]
  },
  {
   "cell_type": "code",
   "execution_count": 1,
   "id": "9f05c308",
   "metadata": {},
   "outputs": [
    {
     "name": "stdout",
     "output_type": "stream",
     "text": [
      "Hello there! \n",
      "How are you?\n",
      "I'm doing fine.\n"
     ]
    }
   ],
   "source": [
    "print(\"Hello there! \\nHow are you?\\nI\\'m doing fine.\")"
   ]
  },
  {
   "cell_type": "code",
   "execution_count": 2,
   "id": "71bf21fa",
   "metadata": {},
   "outputs": [
    {
     "name": "stdout",
     "output_type": "stream",
     "text": [
      "That is Carol\\'s cat\n"
     ]
    }
   ],
   "source": [
    "# Raw strings\n",
    "# Use: file paths or regular expressions, chapter 7\n",
    "print(r'That is Carol\\'s cat')"
   ]
  },
  {
   "cell_type": "code",
   "execution_count": 5,
   "id": "aee08809",
   "metadata": {},
   "outputs": [
    {
     "name": "stdout",
     "output_type": "stream",
     "text": [
      "Dear Alice, \n",
      "\n",
      "Eve's cat has been arrested for catnapping, cat burglary and extortion.\n",
      "\n",
      "Sincerly, \n",
      "Artuur\n"
     ]
    }
   ],
   "source": [
    "# Multiline strings with triple quotes. \n",
    "print(\"\"\"Dear Alice, \n",
    "\\nEve's cat has been arrested for catnapping, cat burglary and extortion.\n",
    "\n",
    "Sincerly, \n",
    "Artuur\"\"\")"
   ]
  },
  {
   "cell_type": "code",
   "execution_count": 8,
   "id": "bb55e1db",
   "metadata": {},
   "outputs": [
    {
     "name": "stdout",
     "output_type": "stream",
     "text": [
      "hello\n"
     ]
    }
   ],
   "source": [
    "# Multiline commments\n",
    "\n",
    "''' This is a test python program.\n",
    "\n",
    "It was designed for python3 not python2'''\n",
    "\n",
    "def spam():\n",
    "    \"\"\" This is a multiline comment to explain what the spam() function does.\"\"\"\n",
    "    print('hello')\n",
    "    \n",
    "spam()"
   ]
  },
  {
   "cell_type": "code",
   "execution_count": 9,
   "id": "b81042d2",
   "metadata": {},
   "outputs": [
    {
     "data": {
      "text/plain": [
       "'Hello'"
      ]
     },
     "execution_count": 9,
     "metadata": {},
     "output_type": "execute_result"
    }
   ],
   "source": [
    "#Indexing and slicing strings\n",
    "spam = 'Hello, world!'\n",
    "fizz = spam[0:5]\n",
    "fizz"
   ]
  },
  {
   "cell_type": "code",
   "execution_count": 12,
   "id": "e41f0e1a",
   "metadata": {},
   "outputs": [
    {
     "name": "stdout",
     "output_type": "stream",
     "text": [
      "True\n",
      "False\n",
      "True\n"
     ]
    }
   ],
   "source": [
    "# The in and not in operators with strings\n",
    "print('Hello' in 'Hello, world!')\n",
    "print('HELLO' in 'Hello, world!')\n",
    "print('' in 'spam')"
   ]
  },
  {
   "cell_type": "code",
   "execution_count": 14,
   "id": "a3ae69dd",
   "metadata": {},
   "outputs": [
    {
     "data": {
      "text/plain": [
       "'Hello, my name is Al. I am 4000 years old.'"
      ]
     },
     "execution_count": 14,
     "metadata": {},
     "output_type": "execute_result"
    }
   ],
   "source": [
    "# Putting strings in other strings\n",
    "name = 'Al'\n",
    "age = 4000 \n",
    "'Hello, my name is ' + name + '. I am ' + str(age) + ' years old.'\n"
   ]
  },
  {
   "cell_type": "code",
   "execution_count": 15,
   "id": "b6415f06",
   "metadata": {},
   "outputs": [
    {
     "data": {
      "text/plain": [
       "'My name is Al. I am 4000 years old.'"
      ]
     },
     "execution_count": 15,
     "metadata": {},
     "output_type": "execute_result"
    }
   ],
   "source": [
    "# Same as previous but way easier to type:\n",
    "name = 'Al'\n",
    "age = 4000\n",
    "'My name is %s. I am %s years old.' % (name, age)"
   ]
  },
  {
   "cell_type": "code",
   "execution_count": 17,
   "id": "95785dd7",
   "metadata": {},
   "outputs": [
    {
     "data": {
      "text/plain": [
       "'My name is Al. Next year I will be 4001 years old.'"
      ]
     },
     "execution_count": 17,
     "metadata": {},
     "output_type": "execute_result"
    }
   ],
   "source": [
    "# Using f-strings\n",
    "name = 'Al'\n",
    "age = 4000 \n",
    "f'My name is {name}. Next year I will be {age + 1} years old.'"
   ]
  },
  {
   "cell_type": "code",
   "execution_count": 25,
   "id": "dd0a0a3d",
   "metadata": {},
   "outputs": [
    {
     "name": "stdout",
     "output_type": "stream",
     "text": [
      "HELLO, WORLD!\n",
      "False\n",
      "hello, world!\n",
      "False\n"
     ]
    }
   ],
   "source": [
    "# The upper(), lower(), isupper() and islower() methods\n",
    "#THESE DO NOT CHANGE THE ORIGINAL STRING\n",
    "spam = 'Hello, world!'\n",
    "\n",
    "print(spam.upper())\n",
    "print(spam.isupper())\n",
    "print(spam.lower())\n",
    "print(spam.islower())"
   ]
  },
  {
   "cell_type": "code",
   "execution_count": 26,
   "id": "0b561ace",
   "metadata": {},
   "outputs": [
    {
     "name": "stdout",
     "output_type": "stream",
     "text": [
      "How are you?\n",
      "GREAT\n",
      "I'm feeling the same way dude!\n"
     ]
    }
   ],
   "source": [
    "print('How are you?')\n",
    "feeling = input()\n",
    "if feeling.lower() == 'great':\n",
    "    print('I\\'m feeling the same way dude!')\n",
    "else:\n",
    "    print('I hope the rest of your day is splendid.')"
   ]
  },
  {
   "cell_type": "code",
   "execution_count": 29,
   "id": "a7e8dc7c",
   "metadata": {},
   "outputs": [
    {
     "name": "stdout",
     "output_type": "stream",
     "text": [
      "True\n",
      "True\n",
      "True\n",
      "True\n",
      "True\n",
      "True\n",
      "False\n",
      "False\n"
     ]
    }
   ],
   "source": [
    "# The isX() method\n",
    "'''\n",
    "isalpha() = returns True if string is only letters and not blank\n",
    "isalnum() = returns True is string is only letters and numbers and not blank\n",
    "isdecimal() = returns True if string is only numeric values and not blank \n",
    "isspace() = returns True if string only consists of spaces, tabs and newlines and is not blank\n",
    "istitle() = returns True if string only consists of words that start Uppercase, followed by only lowercase\n",
    "'''\n",
    "\n",
    "print('hello'.isalpha())\n",
    "print('hello123'.isalnum())\n",
    "print('123'.isdecimal())\n",
    "print(' \\n '.isspace())\n",
    "print('This Is Title Case'.istitle())\n",
    "print('This Is Also Title Case 123'.istitle())\n",
    "print('This Is not Title Case'.istitle())\n",
    "print('This Is NOT Title Case either'.istitle())\n",
    "\n",
    "\n",
    "\n",
    "\n"
   ]
  },
  {
   "cell_type": "code",
   "execution_count": 2,
   "id": "82778346",
   "metadata": {},
   "outputs": [
    {
     "name": "stdout",
     "output_type": "stream",
     "text": [
      "Enter your age: \n",
      "artuur\n",
      "Please enter a number for your age.\n",
      "Enter your age: \n",
      "12\n",
      "Select a new password (Letters & Numbers only!)\n",
      "\\n\n",
      "Password can only be letters and numbers\n",
      "Select a new password (Letters & Numbers only!)\n",
      "q1\n"
     ]
    }
   ],
   "source": [
    "# validate user input with the isX() method\n",
    "\n",
    "while True:\n",
    "    print('Enter your age: ')\n",
    "    age = input()\n",
    "    if age.isdecimal():\n",
    "        break\n",
    "    else: \n",
    "        print('Please enter a number for your age.')\n",
    "while True:\n",
    "    print('Select a new password (Letters & Numbers only!)')\n",
    "    password = input()\n",
    "    if password.isalnum():\n",
    "        break \n",
    "    else: \n",
    "        print('Password can only be letters and numbers')"
   ]
  },
  {
   "cell_type": "code",
   "execution_count": 5,
   "id": "9fb364dc",
   "metadata": {},
   "outputs": [
    {
     "name": "stdout",
     "output_type": "stream",
     "text": [
      "True\n",
      "True\n",
      "False\n"
     ]
    }
   ],
   "source": [
    "# the startswith() or endswith() methods\n",
    "print('Hello, World!'.startswith('Hello'))\n",
    "print('Hello, World!'.endswith('World!'))\n",
    "print('abcd1234'.endswith('3'))"
   ]
  },
  {
   "cell_type": "code",
   "execution_count": 11,
   "id": "8572e7d3",
   "metadata": {},
   "outputs": [
    {
     "name": "stdout",
     "output_type": "stream",
     "text": [
      "cats, dogs, turtles\n",
      "my name is Artuur\n",
      "myABCnameABCisABCArtuur\n"
     ]
    }
   ],
   "source": [
    "# The join() option\n",
    "print(', '.join(['cats', 'dogs', 'turtles']))\n",
    "print(' '.join(['my', 'name', 'is', 'Artuur']))\n",
    "print('ABC'.join(['my', 'name', 'is', 'Artuur']))"
   ]
  },
  {
   "cell_type": "code",
   "execution_count": 4,
   "id": "41c337e9",
   "metadata": {},
   "outputs": [
    {
     "name": "stdout",
     "output_type": "stream",
     "text": [
      "['My', 'name', 'is', 'Artuur']\n",
      "['My na', 'e is Artuur']\n"
     ]
    }
   ],
   "source": [
    "#The split() option\n",
    "print('My name is Artuur'.split())\n",
    "print('My name is Artuur'.split('m'))"
   ]
  },
  {
   "cell_type": "code",
   "execution_count": 5,
   "id": "90912a55",
   "metadata": {},
   "outputs": [
    {
     "name": "stdout",
     "output_type": "stream",
     "text": [
      "['my', 'name', 'is', 'Artuur']\n"
     ]
    }
   ],
   "source": [
    "print('myABCnameABCisABCArtuur'.split('ABC'))"
   ]
  },
  {
   "cell_type": "code",
   "execution_count": 6,
   "id": "6a6c7284",
   "metadata": {},
   "outputs": [
    {
     "data": {
      "text/plain": [
       "[' Dear Alice, ',\n",
       " \"How have you been? I've been fine.\",\n",
       " 'There is a container in the fridge',\n",
       " \"It's labeled 'Milk Experiment'\",\n",
       " '',\n",
       " 'Please do NOT drink it.',\n",
       " 'Sincerly,',\n",
       " 'Artuur']"
      ]
     },
     "execution_count": 6,
     "metadata": {},
     "output_type": "execute_result"
    }
   ],
   "source": [
    "#Common use of .split() is to split multiline strings along the newline character\n",
    "spam = \"\"\" Dear Alice, \n",
    "How have you been? I've been fine.\n",
    "There is a container in the fridge\n",
    "It's labeled 'Milk Experiment'\n",
    "\n",
    "Please do NOT drink it.\n",
    "Sincerly,\n",
    "Artuur\"\"\"\n",
    "spam.split('\\n')"
   ]
  },
  {
   "cell_type": "code",
   "execution_count": 7,
   "id": "96e605da",
   "metadata": {},
   "outputs": [
    {
     "data": {
      "text/plain": [
       "('Hello, ', 'World', '!')"
      ]
     },
     "execution_count": 7,
     "metadata": {},
     "output_type": "execute_result"
    }
   ],
   "source": [
    "#splitting strings with .partition() method \n",
    "#finds passed argument and seperates the string into before and after argument\n",
    "\n",
    "'Hello, World!'.partition('World')"
   ]
  },
  {
   "cell_type": "code",
   "execution_count": 9,
   "id": "9687fd9d",
   "metadata": {},
   "outputs": [
    {
     "name": "stdout",
     "output_type": "stream",
     "text": [
      "Hello,\n",
      "world!\n"
     ]
    }
   ],
   "source": [
    "# You can use the multiple assignment trick on it aswell \n",
    "\n",
    "before, sep, after = 'Hello, world!'.partition(' ')\n",
    "print(before)\n",
    "print(after)"
   ]
  },
  {
   "cell_type": "code",
   "execution_count": 3,
   "id": "d002c2a1",
   "metadata": {},
   "outputs": [
    {
     "name": "stdout",
     "output_type": "stream",
     "text": [
      "     hello\n",
      "howdy               \n",
      "commo estas\n"
     ]
    }
   ],
   "source": [
    "# Justifying text with rjust(), ljust() and center() methode \n",
    "print('hello'.rjust(10))\n",
    "print('howdy'.ljust(20))\n",
    "print('commo estas'.center(10))"
   ]
  },
  {
   "cell_type": "code",
   "execution_count": 8,
   "id": "627dc03b",
   "metadata": {},
   "outputs": [
    {
     "name": "stdout",
     "output_type": "stream",
     "text": [
      "*****hello\n",
      "====howdy=====\n"
     ]
    }
   ],
   "source": [
    "print('hello'.rjust(10, '*'))\n",
    "print('howdy'.center(14, '='))"
   ]
  },
  {
   "cell_type": "code",
   "execution_count": 11,
   "id": "286e10b3",
   "metadata": {},
   "outputs": [
    {
     "name": "stdout",
     "output_type": "stream",
     "text": [
      "-------PICNIC ITEMS-------\n",
      "sandwiches..........     4\n",
      "apples..............    12\n",
      "cups................     4\n",
      "cookies.............  8000\n"
     ]
    }
   ],
   "source": [
    "# USING THESE METHODS TO PRINT TABULAR DATA WITH CORRECT SPACING.\n",
    "\n",
    "def printPicNic(itemsDict, leftwidth, rightwidth):\n",
    "    print('PICNIC ITEMS'.center(leftwidth + rightwidth, '-')) # print Picnic items centered met links en rechts '-'\n",
    "    for k, v in itemsDict.items():\n",
    "        print(k.ljust(leftwidth, '.') + str(v).rjust(rightwidth)) # print de items in dic, links '.', rechts aantal\n",
    "        \n",
    "picnicItems = {'sandwiches': 4, 'apples': 12, 'cups': 4, 'cookies': 8000}\n",
    "\n",
    "\n",
    "printPicNic(picnicItems, 20, 6)"
   ]
  },
  {
   "cell_type": "code",
   "execution_count": null,
   "id": "c3a66b44",
   "metadata": {},
   "outputs": [],
   "source": []
  },
  {
   "cell_type": "code",
   "execution_count": 4,
   "id": "b5e9e0c0",
   "metadata": {},
   "outputs": [
    {
     "name": "stdout",
     "output_type": "stream",
     "text": [
      "Hello, world!\n"
     ]
    }
   ],
   "source": [
    "# Using strip(), rstrip() and lstrip() TO REMOVE WHITESPACE \n",
    "spam = '          Hello, world!         '\n",
    "print(spam.strip())"
   ]
  },
  {
   "cell_type": "code",
   "execution_count": 5,
   "id": "f1440a47",
   "metadata": {},
   "outputs": [
    {
     "data": {
      "text/plain": [
       "'Hello, world!         '"
      ]
     },
     "execution_count": 5,
     "metadata": {},
     "output_type": "execute_result"
    }
   ],
   "source": [
    "spam.lstrip()"
   ]
  },
  {
   "cell_type": "code",
   "execution_count": 6,
   "id": "b5289c7a",
   "metadata": {},
   "outputs": [
    {
     "data": {
      "text/plain": [
       "'          Hello, world!'"
      ]
     },
     "execution_count": 6,
     "metadata": {},
     "output_type": "execute_result"
    }
   ],
   "source": [
    "spam.rstrip()"
   ]
  },
  {
   "cell_type": "code",
   "execution_count": 7,
   "id": "9a3eee56",
   "metadata": {},
   "outputs": [
    {
     "data": {
      "text/plain": [
       "'BaconSpamEggs'"
      ]
     },
     "execution_count": 7,
     "metadata": {},
     "output_type": "execute_result"
    }
   ],
   "source": [
    "# using a parameter to strip \n",
    "spam = 'SpamSpamBaconSpamEggsSpamSpam'\n",
    "spam.strip('ampS') #strip occurence of a,m,p,S from the end of the string, order of parameters doesnt matter."
   ]
  },
  {
   "cell_type": "code",
   "execution_count": 14,
   "id": "6615dbde",
   "metadata": {},
   "outputs": [
    {
     "data": {
      "text/plain": [
       "'Lazy cock'"
      ]
     },
     "execution_count": 14,
     "metadata": {},
     "output_type": "execute_result"
    }
   ],
   "source": [
    "test = 'ShitLazy cockShit'\n",
    "test.strip('tihS')"
   ]
  },
  {
   "cell_type": "code",
   "execution_count": null,
   "id": "21d57f12",
   "metadata": {},
   "outputs": [],
   "source": []
  },
  {
   "cell_type": "code",
   "execution_count": 26,
   "id": "8bad23c5",
   "metadata": {},
   "outputs": [
    {
     "name": "stdout",
     "output_type": "stream",
     "text": [
      "This is the code-point of \"E\" = 69\n",
      "This is the one-char string on place \"69\" = E\n"
     ]
    }
   ],
   "source": [
    "#Numeric values of Characters with ord() and chr() functions\n",
    "\"\"\" Computers store everything with bytes, every character has a byte code. --> UNICODE CODE POINT\n",
    "    ord() gives you the code point of a one-character string\n",
    "    chr() gives you the one-character string of the code-point\n",
    "\"\"\"\n",
    "\n",
    "print('This is the code-point of \"E\" ' + '= ' + str(ord('E')))\n",
    "print('This is the one-char string on place \"69\" ' + '= ' + chr(69))"
   ]
  },
  {
   "cell_type": "code",
   "execution_count": null,
   "id": "69c0693c",
   "metadata": {},
   "outputs": [],
   "source": []
  },
  {
   "cell_type": "code",
   "execution_count": 2,
   "id": "02a05f98",
   "metadata": {},
   "outputs": [
    {
     "data": {
      "text/plain": [
       "'Hello, World!'"
      ]
     },
     "execution_count": 2,
     "metadata": {},
     "output_type": "execute_result"
    }
   ],
   "source": [
    "#COPYING AND PASTING STRINGS WITH PYPERCLIP MODULE\n",
    "import pyperclip \n",
    "\n",
    "pyperclip.copy('Hello, World!')\n",
    "pyperclip.paste()"
   ]
  },
  {
   "cell_type": "code",
   "execution_count": 3,
   "id": "9cb8c4b7",
   "metadata": {},
   "outputs": [
    {
     "data": {
      "text/plain": [
       "'#COPYING AND PASTING STRINGS WITH PYPERCLIP MODULE'"
      ]
     },
     "execution_count": 3,
     "metadata": {},
     "output_type": "execute_result"
    }
   ],
   "source": [
    "pyperclip.paste() #Copied something without the module "
   ]
  },
  {
   "cell_type": "code",
   "execution_count": null,
   "id": "37fbf866",
   "metadata": {},
   "outputs": [],
   "source": [
    "\"\"\"\n",
    "SEE PROJECT, PAGE 144, /workspace/programming/my_projects/mclip.py\n",
    "\"\"\""
   ]
  },
  {
   "cell_type": "code",
   "execution_count": 4,
   "id": "88077047",
   "metadata": {},
   "outputs": [
    {
     "name": "stdout",
     "output_type": "stream",
     "text": [
      "There is no text for -f\n"
     ]
    }
   ],
   "source": [
    "#! python3\n",
    "# mclip.py - A multi-clipboard program.\n",
    "\n",
    "TEXT = {'agree': \"\"\"Yes, I agree. That sounds fine to me.\"\"\",\n",
    "        'busy': \"\"\"Sorry, can we do this later this week or next week?\"\"\",\n",
    "        'upsell': \"\"\"Would you consider making this a monthly donation?\"\"\"}\n",
    "\n",
    "import sys, pyperclip\n",
    "if len(sys.argv) < 2:\n",
    "    print('Usage: py mclip.py [keyphrase] - copy phrase text')\n",
    "    sys.exit()\n",
    "\n",
    "keyphrase = sys.argv[1]    # first command line arg is the keyphrase\n",
    "\n",
    "if keyphrase in TEXT:\n",
    "    pyperclip.copy(TEXT[keyphrase])\n",
    "    print('Text for ' + keyphrase + ' copied to clipboard.')\n",
    "else:\n",
    "    print('There is no text for ' + keyphrase)"
   ]
  },
  {
   "cell_type": "code",
   "execution_count": null,
   "id": "ccdd1cde",
   "metadata": {},
   "outputs": [],
   "source": []
  }
 ],
 "metadata": {
  "kernelspec": {
   "display_name": "Python 3",
   "language": "python",
   "name": "python3"
  },
  "language_info": {
   "codemirror_mode": {
    "name": "ipython",
    "version": 3
   },
   "file_extension": ".py",
   "mimetype": "text/x-python",
   "name": "python",
   "nbconvert_exporter": "python",
   "pygments_lexer": "ipython3",
   "version": "3.9.5"
  }
 },
 "nbformat": 4,
 "nbformat_minor": 5
}
