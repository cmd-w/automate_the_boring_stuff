{
 "cells": [
  {
   "cell_type": "code",
   "execution_count": 14,
   "id": "f879ca73",
   "metadata": {},
   "outputs": [
    {
     "data": {
      "text/plain": [
       "['cat', 'bat', 'rat', 'elephant']"
      ]
     },
     "execution_count": 14,
     "metadata": {},
     "output_type": "execute_result"
    }
   ],
   "source": [
    "spam = ['cat', 'bat', 'rat', 'elephant']\n",
    "spam"
   ]
  },
  {
   "cell_type": "code",
   "execution_count": null,
   "id": "7c75834b",
   "metadata": {},
   "outputs": [],
   "source": []
  },
  {
   "cell_type": "code",
   "execution_count": 5,
   "id": "68b82760",
   "metadata": {},
   "outputs": [
    {
     "data": {
      "text/plain": [
       "('cat', 'needy gf')"
      ]
     },
     "execution_count": 5,
     "metadata": {},
     "output_type": "execute_result"
    }
   ],
   "source": [
    "pets = ['cat', 'dog', 'bunny', 'needy gf']\n",
    "pets[0], pets[3] #Index begint bij 0, dus eerste item is nummer 0. \n"
   ]
  },
  {
   "cell_type": "code",
   "execution_count": 7,
   "id": "b10453b3",
   "metadata": {},
   "outputs": [
    {
     "data": {
      "text/plain": [
       "'needy gf'"
      ]
     },
     "execution_count": 7,
     "metadata": {},
     "output_type": "execute_result"
    }
   ],
   "source": [
    "pets = ['cat', 'dog', 'bunny', 'needy gf'][3]\n",
    "pets"
   ]
  },
  {
   "cell_type": "code",
   "execution_count": 11,
   "id": "68e24d00",
   "metadata": {},
   "outputs": [
    {
     "data": {
      "text/plain": [
       "'The needy gf ate the bunny'"
      ]
     },
     "execution_count": 11,
     "metadata": {},
     "output_type": "execute_result"
    }
   ],
   "source": [
    "pets = ['cat', 'dog', 'bunny', 'needy gf']\n",
    "'The ' + pets[3] + ' ate the ' + pets[2]"
   ]
  },
  {
   "cell_type": "code",
   "execution_count": 13,
   "id": "0d821c31",
   "metadata": {},
   "outputs": [
    {
     "data": {
      "text/plain": [
       "['cat', 'bat']"
      ]
     },
     "execution_count": 13,
     "metadata": {},
     "output_type": "execute_result"
    }
   ],
   "source": [
    "# we kunnen ook meerdere values aan 1 index geven \n",
    "\n",
    "spam = [['cat', 'bat'], [10, 20, 30, 40, 50]]\n",
    "spam[0]\n",
    "\n",
    "# spam [0][1] zou 'bat' geven, de tweede value (1) van de eerste list (0)\n"
   ]
  },
  {
   "cell_type": "code",
   "execution_count": 17,
   "id": "f379bc98",
   "metadata": {},
   "outputs": [
    {
     "data": {
      "text/plain": [
       "'The elephant is afraid of the bat'"
      ]
     },
     "execution_count": 17,
     "metadata": {},
     "output_type": "execute_result"
    }
   ],
   "source": [
    "#negatieve indexen \n",
    "# -1 is altijd de index van het laatste in de lijst\n",
    "\n",
    "'The ' + spam[-1] + ' is afraid of the ' + spam[-3]"
   ]
  },
  {
   "cell_type": "code",
   "execution_count": 19,
   "id": "cd7f178d",
   "metadata": {},
   "outputs": [
    {
     "data": {
      "text/plain": [
       "['cat', 'bat', 'rat']"
      ]
     },
     "execution_count": 19,
     "metadata": {},
     "output_type": "execute_result"
    }
   ],
   "source": [
    "# een lijst krijgen uit een lijst met slices: \n",
    "# let goed op waar hij start en eindigd!!!\n",
    "\n",
    "spam[0:3]"
   ]
  },
  {
   "cell_type": "code",
   "execution_count": 20,
   "id": "ea0d3b3b",
   "metadata": {},
   "outputs": [
    {
     "data": {
      "text/plain": [
       "['rat', 'elephant']"
      ]
     },
     "execution_count": 20,
     "metadata": {},
     "output_type": "execute_result"
    }
   ],
   "source": [
    "# shortcut, je kan bepaalde indexes weglaten\n",
    "\n",
    "spam[:2] # eerste weglaten = start bij 0 \n",
    "spam[2:] # van index tot einde van lijst printen\n"
   ]
  },
  {
   "cell_type": "code",
   "execution_count": 21,
   "id": "d57dfe7c",
   "metadata": {},
   "outputs": [
    {
     "data": {
      "text/plain": [
       "4"
      ]
     },
     "execution_count": 21,
     "metadata": {},
     "output_type": "execute_result"
    }
   ],
   "source": [
    "# lengte van een lijst bepalen met len() functie\n",
    "len(spam)"
   ]
  },
  {
   "cell_type": "code",
   "execution_count": 22,
   "id": "424edc0c",
   "metadata": {},
   "outputs": [
    {
     "data": {
      "text/plain": [
       "['cat', 'aardvark', 'rat', 'elephant']"
      ]
     },
     "execution_count": 22,
     "metadata": {},
     "output_type": "execute_result"
    }
   ],
   "source": [
    "# Values veranderen via index\n",
    "\n",
    "spam[1] = 'aardvark'\n",
    "spam"
   ]
  },
  {
   "cell_type": "code",
   "execution_count": 27,
   "id": "4f8780e8",
   "metadata": {},
   "outputs": [
    {
     "data": {
      "text/plain": [
       "['cat', 'aardvark', 'aardvark', '1234']"
      ]
     },
     "execution_count": 27,
     "metadata": {},
     "output_type": "execute_result"
    }
   ],
   "source": [
    "spam[1] = 'aardvark'\n",
    "spam[2] = spam[1]\n",
    "spam "
   ]
  },
  {
   "cell_type": "code",
   "execution_count": 24,
   "id": "89c72fc3",
   "metadata": {},
   "outputs": [
    {
     "data": {
      "text/plain": [
       "['cat', 'rat', 'rat', '1234']"
      ]
     },
     "execution_count": 24,
     "metadata": {},
     "output_type": "execute_result"
    }
   ],
   "source": [
    "spam[-1] = '1234'\n",
    "spam"
   ]
  },
  {
   "cell_type": "code",
   "execution_count": 28,
   "id": "e1c5272a",
   "metadata": {},
   "outputs": [
    {
     "data": {
      "text/plain": [
       "[1, 2, 3, 'a', 'b', 'c']"
      ]
     },
     "execution_count": 28,
     "metadata": {},
     "output_type": "execute_result"
    }
   ],
   "source": [
    "# lijsten samenvoegen of achtervoegen \n",
    "\n",
    "num = [1, 2, 3]\n",
    "num = num + ['a', 'b', 'c']\n",
    "num"
   ]
  },
  {
   "cell_type": "code",
   "execution_count": 33,
   "id": "805f574b",
   "metadata": {},
   "outputs": [
    {
     "data": {
      "text/plain": [
       "['bunny', 'needy gf']"
      ]
     },
     "execution_count": 33,
     "metadata": {},
     "output_type": "execute_result"
    }
   ],
   "source": [
    "# values verwijderen via de del() functie\n",
    "\n",
    "del(pets[0])\n",
    "pets"
   ]
  },
  {
   "cell_type": "code",
   "execution_count": null,
   "id": "30176a11",
   "metadata": {},
   "outputs": [],
   "source": []
  },
  {
   "cell_type": "code",
   "execution_count": null,
   "id": "6412515d",
   "metadata": {},
   "outputs": [],
   "source": []
  },
  {
   "cell_type": "code",
   "execution_count": null,
   "id": "3cb0ab79",
   "metadata": {},
   "outputs": [],
   "source": [
    "# Werken met lijsten: ZIE PG 82, ZEER HANDIGE TIPS\n",
    "\n",
    "catNames = [] # maakt lege lijst aan.\n",
    "while True:\n",
    "    print('Enter the name of the cat ' + str(len(catNames) + 1) + '(or enter nothing to stop.):') # prompt\n",
    "    name = input() #vraagt naam van cat\n",
    "    if name  == '': \n",
    "          break      #als de naam leeg is = break\n",
    "            \n",
    "    catNames = catNames + [name] #bijvoegen aan lijst! \n",
    "print('The cat names are:')\n",
    "for name in catNames: # print lijst, elke value nieuwe lijn\n",
    "    print(' ' + name)\n"
   ]
  },
  {
   "cell_type": "code",
   "execution_count": 6,
   "id": "a0e9b4cb",
   "metadata": {},
   "outputs": [
    {
     "name": "stdout",
     "output_type": "stream",
     "text": [
      "cat\n",
      "dog\n",
      "mouse\n",
      "42\n"
     ]
    }
   ],
   "source": [
    "# For loops with lists\n",
    "\n",
    "for i in ['cat', 'dog', 'mouse', 42]:\n",
    "    print(i)"
   ]
  },
  {
   "cell_type": "code",
   "execution_count": 10,
   "id": "b489ed9f",
   "metadata": {},
   "outputs": [
    {
     "name": "stdout",
     "output_type": "stream",
     "text": [
      "Index 0 in supplies is: pens\n",
      "Index 1 in supplies is: stapler\n",
      "Index 2 in supplies is: spatula\n",
      "Index 3 in supplies is: flamethrower\n"
     ]
    }
   ],
   "source": [
    "# USEFUL CODE FOR PRINTING OUT INDEXES WITH FOR LOOPS \n",
    "\n",
    "supplies = ['pens', 'stapler', 'spatula', 'flamethrower']\n",
    "for i in range(len(supplies)):\n",
    "    print('Index ' + str(i) + ' in supplies is: ' + supplies[i])"
   ]
  },
  {
   "cell_type": "code",
   "execution_count": 11,
   "id": "042e740b",
   "metadata": {},
   "outputs": [
    {
     "data": {
      "text/plain": [
       "True"
      ]
     },
     "execution_count": 11,
     "metadata": {},
     "output_type": "execute_result"
    }
   ],
   "source": [
    "# the in and not in operators\n",
    "'howdy' in ['hello', 'bonjour', 'salut', 'howdy']"
   ]
  },
  {
   "cell_type": "code",
   "execution_count": 13,
   "id": "c8e0d961",
   "metadata": {},
   "outputs": [
    {
     "name": "stdout",
     "output_type": "stream",
     "text": [
      "Search a pet! \n",
      "maine\n",
      "false\n"
     ]
    }
   ],
   "source": [
    "myPets = ['Zoe', 'Gucci', 'Chanel', 'Dolce', 'Gabana']\n",
    "print('Search a pet! ')\n",
    "name = input()\n",
    "if name in myPets:\n",
    "    print('succes')\n",
    "else:\n",
    "    print('false')"
   ]
  },
  {
   "cell_type": "code",
   "execution_count": 15,
   "id": "a9ab7417",
   "metadata": {},
   "outputs": [],
   "source": [
    "#MULTIPLE ASSIGNMENT TRICK: \n",
    "cat = ['fat', 'gray', 'loud']\n",
    "size = cat[0]\n",
    "color = cat[1]\n",
    "disposition = cat[2]\n",
    "\n",
    "#THIS CODE IS BULLSHIT DONT WRITE IS DO WHATS UNDER HERE \n"
   ]
  },
  {
   "cell_type": "code",
   "execution_count": 14,
   "id": "86857b33",
   "metadata": {},
   "outputs": [],
   "source": [
    "cat = ['fat', 'gray', 'loud']\n",
    "size, color, disposition = cat"
   ]
  },
  {
   "cell_type": "code",
   "execution_count": null,
   "id": "525a1ac6",
   "metadata": {},
   "outputs": [],
   "source": []
  },
  {
   "cell_type": "code",
   "execution_count": 18,
   "id": "217b0a46",
   "metadata": {},
   "outputs": [
    {
     "name": "stdout",
     "output_type": "stream",
     "text": [
      "Index 0 in supplies is: pens\n",
      "Index 1 in supplies is: stapler\n",
      "Index 2 in supplies is: spatula\n",
      "Index 3 in supplies is: flamethrower\n"
     ]
    }
   ],
   "source": [
    "# USEFUL CODE FOR PRINTING OUT INDEXES WITH FOR LOOPS \n",
    "\n",
    "supplies = ['pens', 'stapler', 'spatula', 'flamethrower']\n",
    "for index, item in enumerate (supplies):\n",
    "    print('Index ' + str(index) + ' in supplies is: ' + item)"
   ]
  },
  {
   "cell_type": "code",
   "execution_count": 19,
   "id": "0382551a",
   "metadata": {},
   "outputs": [
    {
     "data": {
      "text/plain": [
       "43"
      ]
     },
     "execution_count": 19,
     "metadata": {},
     "output_type": "execute_result"
    }
   ],
   "source": [
    "spam = 42 \n",
    "spam += 1 \n",
    "spam"
   ]
  },
  {
   "cell_type": "code",
   "execution_count": 20,
   "id": "ad2e1ed6",
   "metadata": {},
   "outputs": [
    {
     "data": {
      "text/plain": [
       "'helloworld'"
      ]
     },
     "execution_count": 20,
     "metadata": {},
     "output_type": "execute_result"
    }
   ],
   "source": [
    "spam = 'hello'\n",
    "spam += 'world'\n",
    "spam"
   ]
  },
  {
   "cell_type": "code",
   "execution_count": 22,
   "id": "4720fe80",
   "metadata": {},
   "outputs": [
    {
     "data": {
      "text/plain": [
       "1"
      ]
     },
     "execution_count": 22,
     "metadata": {},
     "output_type": "execute_result"
    }
   ],
   "source": [
    "# finding a value with index methode\n",
    "spam = ['howdy', 'hello', 'pen']\n",
    "spam.index('hello')"
   ]
  },
  {
   "cell_type": "code",
   "execution_count": 23,
   "id": "cd7134b3",
   "metadata": {},
   "outputs": [
    {
     "data": {
      "text/plain": [
       "['howdy', 'hello', 'pen', 'cool']"
      ]
     },
     "execution_count": 23,
     "metadata": {},
     "output_type": "execute_result"
    }
   ],
   "source": [
    "spam.append('cool')\n",
    "spam"
   ]
  },
  {
   "cell_type": "code",
   "execution_count": 27,
   "id": "f9f914e6",
   "metadata": {},
   "outputs": [
    {
     "data": {
      "text/plain": [
       "['howdy', 'sup', 'sup', 'sup', 'hello', 'pen', 'cool']"
      ]
     },
     "execution_count": 27,
     "metadata": {},
     "output_type": "execute_result"
    }
   ],
   "source": [
    "spam.insert(1, 'sup')\n",
    "spam"
   ]
  },
  {
   "cell_type": "code",
   "execution_count": 31,
   "id": "964f90df",
   "metadata": {},
   "outputs": [
    {
     "data": {
      "text/plain": [
       "['howdy', 'hello', 'pen', 'cool']"
      ]
     },
     "execution_count": 31,
     "metadata": {},
     "output_type": "execute_result"
    }
   ],
   "source": [
    "spam.remove('sup')\n",
    "spam"
   ]
  },
  {
   "cell_type": "code",
   "execution_count": 35,
   "id": "15748902",
   "metadata": {},
   "outputs": [
    {
     "data": {
      "text/plain": [
       "[1, 3.1415, 17, 9000]"
      ]
     },
     "execution_count": 35,
     "metadata": {},
     "output_type": "execute_result"
    }
   ],
   "source": [
    "# sorting lists with .sort()\n",
    "numbers = [1, 17, 3.1415, 9000]\n",
    "numbers.sort()\n",
    "numbers"
   ]
  },
  {
   "cell_type": "code",
   "execution_count": 36,
   "id": "7f7add8b",
   "metadata": {},
   "outputs": [
    {
     "data": {
      "text/plain": [
       "['alice', 'bob', 'simonne', 'tanja']"
      ]
     },
     "execution_count": 36,
     "metadata": {},
     "output_type": "execute_result"
    }
   ],
   "source": [
    "names = ['bob', 'alice', 'tanja', 'simonne']\n",
    "names.sort()\n",
    "names"
   ]
  },
  {
   "cell_type": "code",
   "execution_count": 38,
   "id": "bd2b8964",
   "metadata": {},
   "outputs": [
    {
     "data": {
      "text/plain": [
       "['A', 'b', 'C']"
      ]
     },
     "execution_count": 38,
     "metadata": {},
     "output_type": "execute_result"
    }
   ],
   "source": [
    "spam = ['A', 'b' ,'C']\n",
    "spam.sort(key=str.lower)\n",
    "spam"
   ]
  },
  {
   "cell_type": "code",
   "execution_count": 41,
   "id": "5a0ff48f",
   "metadata": {},
   "outputs": [
    {
     "name": "stdout",
     "output_type": "stream",
     "text": [
      "['moose', 'cat', 'dog']\n",
      "['dog', 'cat', 'moose']\n"
     ]
    }
   ],
   "source": [
    "# reversing lists with .reverse()\n",
    "spam = ['moose', 'cat', 'dog']\n",
    "print(spam)\n",
    "spam.reverse()\n",
    "print(spam)"
   ]
  },
  {
   "cell_type": "code",
   "execution_count": null,
   "id": "e9450758",
   "metadata": {},
   "outputs": [],
   "source": []
  },
  {
   "cell_type": "code",
   "execution_count": 45,
   "id": "239e77d9",
   "metadata": {},
   "outputs": [
    {
     "name": "stdout",
     "output_type": "stream",
     "text": [
      "ask again later\n"
     ]
    }
   ],
   "source": [
    "#MAGIC 8-BALL WITH LISTS\n",
    "\n",
    "import random \n",
    "messages = ['its certain', 'its decidedly so', 'reply hazy try again', 'ask again later']\n",
    "print(messages[random.randint(0, len(messages) -1 )])"
   ]
  },
  {
   "cell_type": "code",
   "execution_count": 49,
   "id": "5b1280c3",
   "metadata": {},
   "outputs": [
    {
     "name": "stdout",
     "output_type": "stream",
     "text": [
      "*** Z ***\n",
      "*** o ***\n",
      "*** p ***\n",
      "*** h ***\n",
      "*** i ***\n",
      "*** e ***\n",
      "Zoph\n"
     ]
    }
   ],
   "source": [
    "name = 'Zophie'\n",
    "for i in name:\n",
    "    print('*** ' + i + ' ***')\n",
    "print(name[0:4])"
   ]
  },
  {
   "cell_type": "code",
   "execution_count": null,
   "id": "33c99083",
   "metadata": {},
   "outputs": [],
   "source": []
  },
  {
   "cell_type": "code",
   "execution_count": null,
   "id": "cbb25969",
   "metadata": {},
   "outputs": [],
   "source": [
    "TUPLES ARE LIKE LISTS, THEY ARE IMMUTABLE. \n",
    "TUPLES ZIJN MET (), NIET []"
   ]
  },
  {
   "cell_type": "code",
   "execution_count": 1,
   "id": "a830d16b",
   "metadata": {},
   "outputs": [
    {
     "data": {
      "text/plain": [
       "'hello'"
      ]
     },
     "execution_count": 1,
     "metadata": {},
     "output_type": "execute_result"
    }
   ],
   "source": [
    "eggs = ('hello', 42, 0.5)\n",
    "eggs[0]"
   ]
  },
  {
   "cell_type": "code",
   "execution_count": 2,
   "id": "b02a408f",
   "metadata": {},
   "outputs": [
    {
     "data": {
      "text/plain": [
       "(42, 0.5)"
      ]
     },
     "execution_count": 2,
     "metadata": {},
     "output_type": "execute_result"
    }
   ],
   "source": [
    "eggs [1:3]"
   ]
  },
  {
   "cell_type": "code",
   "execution_count": 3,
   "id": "6b74b6fd",
   "metadata": {},
   "outputs": [
    {
     "data": {
      "text/plain": [
       "3"
      ]
     },
     "execution_count": 3,
     "metadata": {},
     "output_type": "execute_result"
    }
   ],
   "source": [
    "len(eggs)"
   ]
  },
  {
   "cell_type": "code",
   "execution_count": 4,
   "id": "71227727",
   "metadata": {},
   "outputs": [
    {
     "ename": "TypeError",
     "evalue": "'tuple' object does not support item assignment",
     "output_type": "error",
     "traceback": [
      "\u001b[0;31m---------------------------------------------------------------------------\u001b[0m",
      "\u001b[0;31mTypeError\u001b[0m                                 Traceback (most recent call last)",
      "\u001b[0;32m<ipython-input-4-ae8ffb496de8>\u001b[0m in \u001b[0;36m<module>\u001b[0;34m\u001b[0m\n\u001b[0;32m----> 1\u001b[0;31m \u001b[0meggs\u001b[0m\u001b[0;34m[\u001b[0m\u001b[0;36m1\u001b[0m\u001b[0;34m]\u001b[0m \u001b[0;34m=\u001b[0m \u001b[0;34m'ice'\u001b[0m\u001b[0;34m\u001b[0m\u001b[0;34m\u001b[0m\u001b[0m\n\u001b[0m",
      "\u001b[0;31mTypeError\u001b[0m: 'tuple' object does not support item assignment"
     ]
    }
   ],
   "source": [
    "eggs[1] = 'ice'\n",
    "#wont work"
   ]
  },
  {
   "cell_type": "code",
   "execution_count": 5,
   "id": "7ab526cf",
   "metadata": {},
   "outputs": [
    {
     "data": {
      "text/plain": [
       "('cat', 'dog', 'bunny')"
      ]
     },
     "execution_count": 5,
     "metadata": {},
     "output_type": "execute_result"
    }
   ],
   "source": [
    "tuple(['cat', 'dog', 'bunny']) #invert the type from tuple to list etc "
   ]
  },
  {
   "cell_type": "code",
   "execution_count": 7,
   "id": "224ae9b5",
   "metadata": {},
   "outputs": [
    {
     "data": {
      "text/plain": [
       "['cat', 'dog', 'bunny']"
      ]
     },
     "execution_count": 7,
     "metadata": {},
     "output_type": "execute_result"
    }
   ],
   "source": [
    "list(('cat', 'dog', 'bunny'))"
   ]
  },
  {
   "cell_type": "code",
   "execution_count": 8,
   "id": "9ec0bf1f",
   "metadata": {},
   "outputs": [
    {
     "data": {
      "text/plain": [
       "4585601392"
      ]
     },
     "execution_count": 8,
     "metadata": {},
     "output_type": "execute_result"
    }
   ],
   "source": [
    "#identity and the id() function \n",
    "id('howdy')"
   ]
  },
  {
   "cell_type": "code",
   "execution_count": null,
   "id": "75b32b32",
   "metadata": {},
   "outputs": [],
   "source": [
    "CONWAYS GAME OF LIFE PG. 102"
   ]
  },
  {
   "cell_type": "code",
   "execution_count": null,
   "id": "7685d067",
   "metadata": {},
   "outputs": [],
   "source": [
    "# Coin flip streaks, pg. 107 \n",
    "import random \n",
    "numberOfStreaks = 0 \n",
    "heads = 0 \n",
    "tails = 0\n",
    "for experimentNumber in range(10000):\n",
    "    #code that creates a list of 100 'heads' or 'tails'\n",
    "    while count < 100:\n",
    "        coin = random.randint(1, 2)\n",
    "        if coint == 1: \n",
    "            heads += 1\n",
    "        elif tails += 1 \n",
    "        else:\n",
    "            if actualStreak > longestStreak:\n",
    "                longestStreakak = actualStreak\n",
    "                actualstreak = 0 \n",
    "            \n",
    "    \n",
    "    #code that checks for a streak of 6 or bigger \n",
    "print('Chance of streak: %s%%' % (numberOfStreaks / 100))\n",
    "\n",
    "\n",
    "# AWNSER YET TO BE FOUND"
   ]
  },
  {
   "cell_type": "code",
   "execution_count": 17,
   "id": "4c2fe2ee",
   "metadata": {},
   "outputs": [
    {
     "name": "stdout",
     "output_type": "stream",
     "text": [
      "0\n"
     ]
    }
   ],
   "source": [
    "import random\n",
    "count = 0 \n",
    "heads = 0 \n",
    "tails = 0 \n",
    "lS = 0 \n",
    "while count < 100:\n",
    "    coin = random.randint(1, 2)\n",
    "    count += 1\n",
    "    if coin == 1: \n",
    "        heads += 1\n",
    "    elif coin == 2:\n",
    "        tails += 1\n",
    "    else:\n",
    "        if aS > lS:\n",
    "            lS = aS\n",
    "            aS = 0 \n",
    "            \n",
    "print(lS)\n",
    "            "
   ]
  },
  {
   "cell_type": "code",
   "execution_count": null,
   "id": "7260fb81",
   "metadata": {},
   "outputs": [],
   "source": [
    "#CODE I STOLE TO ANALYSE\n",
    "import random\n",
    "\n",
    "    #variables\n",
    "n_runs = 10000\n",
    "flips_per_run = 100\n",
    "total_instances = n_runs * flips_per_run\n",
    "coinFlip = []\n",
    "streak = 0\n",
    "numberOfStreaks = 0\n",
    "\n",
    "for experimentNumber in range(n_runs):\n",
    "    # Code that creates a list of 100 'heads' or 'tails' values.'\n",
    "    for i in range(flips_per_run):\n",
    "        coinFlip.append(random.randint(0,1))\n",
    "        if i==0:\n",
    "            pass\n",
    "        elif coinFlip[i] == coinFlip[i-1]:\n",
    "            streak += 1"
   ]
  },
  {
   "cell_type": "code",
   "execution_count": null,
   "id": "a1accdb4",
   "metadata": {},
   "outputs": [],
   "source": []
  }
 ],
 "metadata": {
  "kernelspec": {
   "display_name": "Python 3",
   "language": "python",
   "name": "python3"
  },
  "language_info": {
   "codemirror_mode": {
    "name": "ipython",
    "version": 3
   },
   "file_extension": ".py",
   "mimetype": "text/x-python",
   "name": "python",
   "nbconvert_exporter": "python",
   "pygments_lexer": "ipython3",
   "version": "3.9.5"
  }
 },
 "nbformat": 4,
 "nbformat_minor": 5
}
